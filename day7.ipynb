{
 "cells": [
  {
   "cell_type": "markdown",
   "id": "5c61c74f",
   "metadata": {},
   "source": [
    "# EXERCISE\n",
    "# USING FUNCTION, WRITE A PROGRAM TO SHIP ITEMS WITHIN THE 6 REGIONS WE HAVE BASED ON NON-FRAGILE AND FRIGILE ITEMS"
   ]
  },
  {
   "cell_type": "code",
   "execution_count": 7,
   "id": "c23d835b",
   "metadata": {},
   "outputs": [
    {
     "name": "stdout",
     "output_type": "stream",
     "text": [
      "Enter Region: Northcentral\n",
      "Item1: Shipping Region - Northcentral, Shipping Price - #250\n"
     ]
    }
   ],
   "source": [
    "def checking_item_condition(is_fragile):\n",
    "    itemname = input('Enter Item name: ')   \n",
    "    if is_fragile:\n",
    "        return 'Fragile Item'\n",
    "    else:\n",
    "        return 'Non-fragile Item'\n",
    "def calculate_shipping_price(shipping_region, is_fragile):\n",
    "    \n",
    "    if is_fragile:\n",
    "        \n",
    "        fragile_price = {\n",
    "            'Northwest': 500,\n",
    "            'Northeast': 400,\n",
    "            'Northcentral': 350,\n",
    "            'Southeast': 350,\n",
    "            'Southwest': 250,\n",
    "            'Southsouth': 450,\n",
    "        }\n",
    "        return fragile_price.get(shipping_region, 0)\n",
    "    else:\n",
    "        non_fragile_price = {\n",
    "            'Northwest': 400,\n",
    "            'Northeast': 350,\n",
    "            'Northcentral': 250,\n",
    "            'Southeast': 250,\n",
    "            'Southwest': 200,\n",
    "            'Southsouth': 380,\n",
    "        }\n",
    "        return non_fragile_price.get(shipping_region, 0)\n",
    "item_fragile = False\n",
    "region = input('Enter Region: ')\n",
    "shippingprice = calculate_shipping_price(region,item_fragile)\n",
    "print(f'Item1: Shipping Region - {region}, Shipping Price - #{shippingprice}')"
   ]
  },
  {
   "cell_type": "code",
   "execution_count": 13,
   "id": "0480a2cd",
   "metadata": {},
   "outputs": [
    {
     "name": "stdout",
     "output_type": "stream",
     "text": [
      "Enter Item name: Glass\n",
      "Enter Item Condition: Fragile\n",
      "Enter Shipping Region: Southsouth\n",
      "Glass: to Southsouth Shipping Price is #450\n"
     ]
    }
   ],
   "source": [
    "def calculate_shipping_price():\n",
    "    itemname = input('Enter Item name: ')   \n",
    "    condition = input('Enter Item Condition: ')\n",
    "    \n",
    "    shipping_region = input('Enter Shipping Region: ')\n",
    "    if condition == 'Fragile':\n",
    "        fragile_price = {\n",
    "            'Northwest': 500,\n",
    "            'Northeast': 400,\n",
    "            'Northcentral': 350,\n",
    "            'Southeast': 350,\n",
    "            'Southwest': 250,\n",
    "            'Southsouth': 450,\n",
    "        }\n",
    "        print(f'{itemname}: to {shipping_region} Shipping Price is #{fragile_price.get(shipping_region)}')\n",
    "        \n",
    "    else:\n",
    "        non_fragile_price = {\n",
    "            'Northwest': 400,\n",
    "            'Northeast': 350,\n",
    "            'Northcentral': 250,\n",
    "            'Southeast': 250,\n",
    "            'Southwest': 200,\n",
    "            'Southsouth': 380,\n",
    "        }\n",
    "        print(f'{itemname}: to {shipping_region} Shipping Price #{fragile_price.get(non_fragile_price.get(shipping_region))}')\n",
    "calculate_shipping_price()"
   ]
  },
  {
   "cell_type": "markdown",
   "id": "62b1f110",
   "metadata": {},
   "source": [
    "# LAMBDA, MAP AND FILTER"
   ]
  },
  {
   "cell_type": "code",
   "execution_count": 15,
   "id": "2a7373ed",
   "metadata": {},
   "outputs": [
    {
     "name": "stdout",
     "output_type": "stream",
     "text": [
      "Enter your desired number9\n"
     ]
    },
    {
     "data": {
      "text/plain": [
       "3.0"
      ]
     },
     "execution_count": 15,
     "metadata": {},
     "output_type": "execute_result"
    }
   ],
   "source": [
    "# lAMBDA\n",
    "import math\n",
    "(lambda x: math.sqrt(x))(int(input('Enter your desired number')))"
   ]
  },
  {
   "cell_type": "code",
   "execution_count": 18,
   "id": "2687ea20",
   "metadata": {},
   "outputs": [
    {
     "name": "stdout",
     "output_type": "stream",
     "text": [
      "Enter your name: Max\n"
     ]
    },
    {
     "data": {
      "text/plain": [
       "'Max starts with upper case'"
      ]
     },
     "execution_count": 18,
     "metadata": {},
     "output_type": "execute_result"
    }
   ],
   "source": [
    "(lambda name:f'{name} starts with upper case' if name[0] == name[0].upper() else\\\n",
    " f'{name}  does not start with upper case letter') (input('Enter your name: '))"
   ]
  },
  {
   "cell_type": "code",
   "execution_count": 19,
   "id": "ff3c0109",
   "metadata": {},
   "outputs": [
    {
     "name": "stdout",
     "output_type": "stream",
     "text": [
      "Enter your name: max\n"
     ]
    },
    {
     "data": {
      "text/plain": [
       "'max  does not start with upper case letter'"
      ]
     },
     "execution_count": 19,
     "metadata": {},
     "output_type": "execute_result"
    }
   ],
   "source": [
    "(lambda name:f'{name} starts with upper case' if name[0] == name[0].upper() else\\\n",
    " f'{name}  does not start with upper case letter') (input('Enter your name: '))"
   ]
  },
  {
   "cell_type": "code",
   "execution_count": null,
   "id": "c1c6a763",
   "metadata": {},
   "outputs": [],
   "source": []
  }
 ],
 "metadata": {
  "kernelspec": {
   "display_name": "Python 3 (ipykernel)",
   "language": "python",
   "name": "python3"
  },
  "language_info": {
   "codemirror_mode": {
    "name": "ipython",
    "version": 3
   },
   "file_extension": ".py",
   "mimetype": "text/x-python",
   "name": "python",
   "nbconvert_exporter": "python",
   "pygments_lexer": "ipython3",
   "version": "3.9.12"
  }
 },
 "nbformat": 4,
 "nbformat_minor": 5
}
