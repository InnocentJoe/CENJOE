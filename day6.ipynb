{
 "cells": [
  {
   "cell_type": "markdown",
   "id": "f6ea75fa",
   "metadata": {},
   "source": [
    "# FUNCTION"
   ]
  },
  {
   "cell_type": "markdown",
   "id": "32ca01dd",
   "metadata": {},
   "source": [
    "# 1. There are input functions"
   ]
  },
  {
   "cell_type": "markdown",
   "id": "62acb7f6",
   "metadata": {},
   "source": [
    "# 2 There are user defined functions"
   ]
  },
  {
   "cell_type": "code",
   "execution_count": 6,
   "id": "da9431bf",
   "metadata": {},
   "outputs": [
    {
     "data": {
      "text/plain": [
       "'Welcome on board'"
      ]
     },
     "execution_count": 6,
     "metadata": {},
     "output_type": "execute_result"
    }
   ],
   "source": [
    "def greet():\n",
    "    return'Welcome on board'\n",
    "greet()"
   ]
  },
  {
   "cell_type": "code",
   "execution_count": 10,
   "id": "b0486fc7",
   "metadata": {},
   "outputs": [
    {
     "name": "stdout",
     "output_type": "stream",
     "text": [
      "Welcome on board\n"
     ]
    }
   ],
   "source": [
    "def greet():\n",
    "    print('Welcome on board')\n",
    "greet()"
   ]
  },
  {
   "cell_type": "code",
   "execution_count": 14,
   "id": "4f94de1e",
   "metadata": {},
   "outputs": [
    {
     "data": {
      "text/plain": [
       "'Welcome on board Samuel'"
      ]
     },
     "execution_count": 14,
     "metadata": {},
     "output_type": "execute_result"
    }
   ],
   "source": [
    "def greet2(name):\n",
    "    return f'Welcome on board {name}'\n",
    "greet2('Samuel')"
   ]
  },
  {
   "cell_type": "code",
   "execution_count": 16,
   "id": "69eda152",
   "metadata": {},
   "outputs": [
    {
     "data": {
      "text/plain": [
       "'Welcome on board Adanna'"
      ]
     },
     "execution_count": 16,
     "metadata": {},
     "output_type": "execute_result"
    }
   ],
   "source": [
    "greet2('Adanna')"
   ]
  },
  {
   "cell_type": "markdown",
   "id": "c13f3d9a",
   "metadata": {},
   "source": [
    "# FUNTION WITH MULTIPLE PARAMETER"
   ]
  },
  {
   "cell_type": "code",
   "execution_count": 27,
   "id": "6444904b",
   "metadata": {},
   "outputs": [
    {
     "name": "stdout",
     "output_type": "stream",
     "text": [
      "______CITIZEN DETAILS_______)\n",
      "NAME: Hope Onyeka\n",
      "GENDER: Female\n",
      "AGE: 36\n",
      "\n",
      "You are eligible to vote.\n"
     ]
    }
   ],
   "source": [
    "def votecheck(name,gender,age):\n",
    "    print(f'''______CITIZEN DETAILS_______)\n",
    "NAME: {name}\n",
    "GENDER: {gender}\n",
    "AGE: {age}\n",
    "''')\n",
    "    if age >= 18:\n",
    "        print('You are eligible to vote.')\n",
    "    else:\n",
    "        print('Sorry you are not eligible to vote.')\n",
    "votecheck('Hope Onyeka','Female',36)"
   ]
  },
  {
   "cell_type": "code",
   "execution_count": 28,
   "id": "391c0c38",
   "metadata": {},
   "outputs": [
    {
     "name": "stdout",
     "output_type": "stream",
     "text": [
      "______CITIZEN DETAILS_______)\n",
      "NAME: Hope Onyeka\n",
      "GENDER: Female\n",
      "AGE: 16\n",
      "\n",
      "Sorry you are not eligible to vote.\n"
     ]
    }
   ],
   "source": [
    "def votecheck(name,gender,age):\n",
    "    print(f'''______CITIZEN DETAILS_______)\n",
    "NAME: {name}\n",
    "GENDER: {gender}\n",
    "AGE: {age}\n",
    "''')\n",
    "    if age >= 18:\n",
    "        print('You are eligible to vote.')\n",
    "    else:\n",
    "        print('Sorry you are not eligible to vote.')\n",
    "votecheck('Hope Onyeka','Female',16)"
   ]
  },
  {
   "cell_type": "code",
   "execution_count": 29,
   "id": "1c4da495",
   "metadata": {},
   "outputs": [
    {
     "name": "stdout",
     "output_type": "stream",
     "text": [
      "______CITIZEN DETAILS_______)\n",
      "NAME: Hope Onyeka\n",
      "GENDER: Female\n",
      "AGE: 18\n",
      "\n",
      "You are eligible to vote.\n"
     ]
    }
   ],
   "source": [
    "def votecheck(name,gender,age = 18):\n",
    "    print(f'''______CITIZEN DETAILS_______)\n",
    "NAME: {name}\n",
    "GENDER: {gender}\n",
    "AGE: {age}\n",
    "''')\n",
    "    if age >= 18:\n",
    "        print('You are eligible to vote.')\n",
    "    else:\n",
    "        print('Sorry you are not eligible to vote.')\n",
    "votecheck('Hope Onyeka','Female')"
   ]
  },
  {
   "cell_type": "code",
   "execution_count": 31,
   "id": "012d7608",
   "metadata": {},
   "outputs": [
    {
     "name": "stdout",
     "output_type": "stream",
     "text": [
      "______CITIZEN DETAILS_______)\n",
      "NAME: Hope Onyeka\n",
      "GENDER: Female\n",
      "AGE: 17\n",
      "\n",
      "Sorry you are not eligible to vote.\n"
     ]
    }
   ],
   "source": [
    "def votecheck(name,gender,age = 18):\n",
    "    print(f'''______CITIZEN DETAILS_______)\n",
    "NAME: {name}\n",
    "GENDER: {gender}\n",
    "AGE: {age}\n",
    "''')\n",
    "    if age >= 18:\n",
    "        print('You are eligible to vote.')\n",
    "    else:\n",
    "        print('Sorry you are not eligible to vote.')\n",
    "votecheck('Hope Onyeka','Female',17)"
   ]
  },
  {
   "cell_type": "code",
   "execution_count": 42,
   "id": "bf380640",
   "metadata": {},
   "outputs": [
    {
     "name": "stdout",
     "output_type": "stream",
     "text": [
      "WELCOME TO M AND K RESTAURANT\n",
      "Choose your food option 1.Rice 2.swallow1\n",
      "Enter rice type with plantain or beans or rice alone: Rice with plantain\n",
      "How many portions of rice: 2\n",
      "Enter how many pieces of chicken: 1\n",
      "Enter how many pieces of beef: 2\n",
      "Enter how many pieces of turkey: 1\n",
      "Enter how many pieces of fish: 0\n",
      "Enter how many bottles of water: 2\n",
      "Enter how many bottles of soft drink: 3\n",
      "_____ITEM PRICE_____\n",
      "2.0 Portion of Rice: 1400.0\n",
      "1 piece(s) of Chicken: 750\n",
      "1 piece(s) of Turkey: 1000\n",
      "2 piece(s) of Beef: 1000\n",
      "0 piece(s) of Fish: 0\n",
      "2 bottle(s) of water: 400\n",
      "3 bottle(s) of Soft drink: 900\n",
      "--------------------------------------------\n",
      "TOTAL: 5450.0\n",
      "\n"
     ]
    }
   ],
   "source": [
    "def rice():\n",
    "    ricetype = input('Enter rice type with plantain or beans or rice alone: ')\n",
    "    rice_portion = float(input('How many portions of rice: '))\n",
    "    chicken = int(input('Enter how many pieces of chicken: '))\n",
    "    beef = int(input('Enter how many pieces of beef: '))\n",
    "    turkey = int(input('Enter how many pieces of turkey: '))\n",
    "    fish = int(input('Enter how many pieces of fish: '))\n",
    "    water = int(input('Enter how many bottles of water: '))\n",
    "    soft_drink = int(input('Enter how many bottles of soft drink: '))\n",
    "    \n",
    "    riceprice = rice_portion * 700\n",
    "    chickenprice = chicken * 750\n",
    "    turkeyprice = turkey * 1000\n",
    "    beefprice = beef * 500\n",
    "    fishprice = fish * 700\n",
    "    waterprice = water * 200\n",
    "    soft_drink_price = soft_drink * 300\n",
    "    total = riceprice + chickenprice + turkeyprice + beefprice + waterprice + soft_drink_price\n",
    "    \n",
    "    print(f'''_____ITEM PRICE_____\n",
    "{rice_portion} Portion of Rice: {riceprice}\n",
    "{chicken} piece(s) of Chicken: {chickenprice}\n",
    "{turkey} piece(s) of Turkey: {turkeyprice}\n",
    "{beef} piece(s) of Beef: {beefprice}\n",
    "{fish} piece(s) of Fish: {fishprice}\n",
    "{water} bottle(s) of water: {waterprice}\n",
    "{soft_drink} bottle(s) of Soft drink: {soft_drink_price}\n",
    "--------------------------------------------\n",
    "TOTAL: {total}\n",
    "''')\n",
    "\n",
    "def swallow():\n",
    "    swallowtype = input('Enter swallow type: ')\n",
    "    soup = input('Enter soup type: ')\n",
    "    swallowraps = float(input('Enter how many wraps of swallow: '))\n",
    "    chicken = int(input('Enter how many pieces of chicken: '))\n",
    "    beef = int(input('Enter how many pieces of beef : '))\n",
    "    turkey = int(input('Enter how many pieces of turkey: '))\n",
    "    fish = int(input('Enter how many pieces of fish: '))\n",
    "    water = int(input('Enter how many bottles of water: '))\n",
    "    soft_drink = int(input('Enter how many bottles of soft drink: '))\n",
    "    \n",
    "    swallowprice = swallow_portion * 700\n",
    "    chickenprice = chicken * 750\n",
    "    turkeyprice = turkey * 1000\n",
    "    beefprice = beef * 500\n",
    "    fishprice = fish * 700\n",
    "    waterprice = water * 200\n",
    "    soft_drink_price = soft_drink * 300\n",
    "    total = swallowprice + chickenprice + turkeyprice + beefprice + waterprice + soft_drink_price\n",
    "    \n",
    "    print(f'''_____ITEM PRICE_____\n",
    "{swallow_portion} wraps of swallow: {swallowprice}\n",
    "{chicken} piece(s) of Chicken: {chickenprice}\n",
    "{turkey} piece(s) of Turkey: {turkeyprice}\n",
    "{beef} piece(s) of Beef: {beefprice}\n",
    "{fish} piece(s) of Fish: {fishprice}\n",
    "{water} bolle(s) of water: {waterprice}\n",
    "{soft_drink} bottle(s) of Soft drink: {soft_drink_price}\n",
    "--------------------------------------------\n",
    "TOTAL: {total}\n",
    "''')\n",
    "def MANDK():\n",
    "    print('WELCOME TO M AND K RESTAURANT')\n",
    "    option = int(input('Choose your food option 1.Rice 2.swallow'))\n",
    "    if option == 1:\n",
    "        rice()\n",
    "    elif option == 2:\n",
    "        swallow()\n",
    "MANDK()"
   ]
  },
  {
   "cell_type": "code",
   "execution_count": null,
   "id": "1021881c",
   "metadata": {},
   "outputs": [],
   "source": []
  }
 ],
 "metadata": {
  "kernelspec": {
   "display_name": "Python 3 (ipykernel)",
   "language": "python",
   "name": "python3"
  },
  "language_info": {
   "codemirror_mode": {
    "name": "ipython",
    "version": 3
   },
   "file_extension": ".py",
   "mimetype": "text/x-python",
   "name": "python",
   "nbconvert_exporter": "python",
   "pygments_lexer": "ipython3",
   "version": "3.9.12"
  }
 },
 "nbformat": 4,
 "nbformat_minor": 5
}
