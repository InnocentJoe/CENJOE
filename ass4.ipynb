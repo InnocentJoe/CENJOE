{
 "cells": [
  {
   "cell_type": "markdown",
   "id": "a5a272cb",
   "metadata": {},
   "source": [
    "### In a bank, how can a conditional statement be used to determine \n",
    "### if a customer has met certain eligibility criteria for a rewards program, \n",
    "### and automatically enroll them in the program?"
   ]
  },
  {
   "cell_type": "code",
   "execution_count": 8,
   "id": "d75bf8ac",
   "metadata": {},
   "outputs": [
    {
     "name": "stdout",
     "output_type": "stream",
     "text": [
      "Customer saving: 15000\n",
      "You are not yet qualified for the win big program. Save up to 20000 to qualify\n"
     ]
    }
   ],
   "source": [
    "customer_saving = float(input('Customer saving: '))\n",
    "if customer_saving >= 20000: \n",
    "    print(f'You are hereby enrolled in the win big program')\n",
    "else:\n",
    "    print(f'You are not yet qualified for the win big program. Save up to 20000 to qualify')"
   ]
  },
  {
   "cell_type": "markdown",
   "id": "536d92f3",
   "metadata": {},
   "source": [
    "### How can a retailer use a conditional statement to determine \n",
    "### if a customer has purchased a certain number of items, \n",
    "### and offer them a free gift or discount on their next purchase?"
   ]
  },
  {
   "cell_type": "code",
   "execution_count": 15,
   "id": "a5d86c15",
   "metadata": {},
   "outputs": [
    {
     "name": "stdout",
     "output_type": "stream",
     "text": [
      "Number of 50kg bag of rice: 8\n",
      "You have a 7% discount of 8.0 which is 0.56\n"
     ]
    }
   ],
   "source": [
    "price_per_item = 50000\n",
    "item_purchased = float(input('Number of 50kg bag of rice: '))\n",
    "if item_purchased >= 3 and item_purchased <= 5:\n",
    "    print(f'You have a 5% discount of {item_purchased} which is {item_purchased * 0.05}')\n",
    "else:\n",
    "    if item_purchased >= 6 and item_purchased <= 10:\n",
    "        print(f'You have a 7% discount of {item_purchased} which is {item_purchased * 0.07}')\n",
    "    else:\n",
    "        if item_purchased > 10:\n",
    "            print(f'You have a 10% discount of {item_purchased} which is {item_purchased * 0.10}')\n",
    "        else:\n",
    "            print(f'You have no discount on your purchases')"
   ]
  },
  {
   "cell_type": "code",
   "execution_count": 14,
   "id": "332b6b0a",
   "metadata": {},
   "outputs": [
    {
     "name": "stdout",
     "output_type": "stream",
     "text": [
      "Number of 50kg bag of rice: 8\n",
      "You have a 7% discount of 8.0 which is 3500.0000000000005\n"
     ]
    }
   ],
   "source": [
    "price_per_item = 50000\n",
    "item_purchased = float(input('Number of 50kg bag of rice: '))\n",
    "if item_purchased >= 3 and item_purchased <= 5:\n",
    "    print(f'You have a 5% discount of {item_purchased} which is {price_per_item * 0.05}')\n",
    "else:\n",
    "    if item_purchased >= 6 and item_purchased <= 10:\n",
    "        print(f'You have a 7% discount of {item_purchased} which is {price_per_item * 0.07}')\n",
    "    else:\n",
    "        if item_purchased > 10:\n",
    "            print(f'You have a 10% discount of {item_purchased} which is {price_per_item * 0.10}')\n",
    "        else:\n",
    "            print(f'You have no discount on your purchases')"
   ]
  },
  {
   "cell_type": "code",
   "execution_count": 17,
   "id": "433d0500",
   "metadata": {},
   "outputs": [
    {
     "name": "stdout",
     "output_type": "stream",
     "text": [
      "Number of 50kg bag of rice: 8\n",
      "You have a 7% discount of 8.0 which is 28000.000000000004\n"
     ]
    }
   ],
   "source": [
    "price_per_item = 50000\n",
    "item_purchased = float(input('Number of 50kg bag of rice: '))\n",
    "if item_purchased >= 3 and item_purchased <= 5:\n",
    "    print(f'You have a 5% discount of {item_purchased} which is {price_per_item * 0.05 * item_purchased}')\n",
    "else:\n",
    "    if item_purchased >= 6 and item_purchased <= 10:\n",
    "        print(f'You have a 7% discount of {item_purchased} which is {price_per_item * 0.07 * item_purchased}')\n",
    "    else:\n",
    "        if item_purchased > 10:\n",
    "            print(f'You have a 10% discount of {item_purchased} which is {price_per_item * 0.10 * item_purchased}')\n",
    "        else:\n",
    "            print(f'You have no discount on your purchases')"
   ]
  },
  {
   "cell_type": "code",
   "execution_count": null,
   "id": "780d8718",
   "metadata": {},
   "outputs": [],
   "source": []
  }
 ],
 "metadata": {
  "kernelspec": {
   "display_name": "Python 3 (ipykernel)",
   "language": "python",
   "name": "python3"
  },
  "language_info": {
   "codemirror_mode": {
    "name": "ipython",
    "version": 3
   },
   "file_extension": ".py",
   "mimetype": "text/x-python",
   "name": "python",
   "nbconvert_exporter": "python",
   "pygments_lexer": "ipython3",
   "version": "3.9.12"
  }
 },
 "nbformat": 4,
 "nbformat_minor": 5
}
