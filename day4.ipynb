{
 "cells": [
  {
   "cell_type": "code",
   "execution_count": 1,
   "id": "87a31a3c",
   "metadata": {},
   "outputs": [
    {
     "name": "stdout",
     "output_type": "stream",
     "text": [
      "Enter unit of product A to produce: 30\n",
      "Enter unit of product B to produce: 45\n",
      "The total profit made on 30.0 unit of product A and 45.0 unit of product B is 45750.0\n"
     ]
    }
   ],
   "source": [
    "maxhours = 800\n",
    "perhrA = 4\n",
    "perhrB = 5\n",
    "PAprofit = 100\n",
    "PBprofit = 150\n",
    "PA = perhrA * PAprofit\n",
    "PB = perhrB * PBprofit\n",
    "unitA = float(input('Enter unit of product A to produce: '))\n",
    "unitB = float(input('Enter unit of product B to produce: '))\n",
    "total = unitA * PA + unitB * PB\n",
    "print(f'The total profit made on {unitA} unit of product A and {unitB} unit of product B is {total}')"
   ]
  },
  {
   "cell_type": "markdown",
   "id": "773c5aad",
   "metadata": {},
   "source": [
    "### MODULES"
   ]
  },
  {
   "cell_type": "code",
   "execution_count": 5,
   "id": "bfc4c38f",
   "metadata": {},
   "outputs": [
    {
     "name": "stdout",
     "output_type": "stream",
     "text": [
      "['__doc__', '__loader__', '__name__', '__package__', '__spec__', 'acos', 'acosh', 'asin', 'asinh', 'atan', 'atan2', 'atanh', 'ceil', 'comb', 'copysign', 'cos', 'cosh', 'degrees', 'dist', 'e', 'erf', 'erfc', 'exp', 'expm1', 'fabs', 'factorial', 'floor', 'fmod', 'frexp', 'fsum', 'gamma', 'gcd', 'hypot', 'inf', 'isclose', 'isfinite', 'isinf', 'isnan', 'isqrt', 'lcm', 'ldexp', 'lgamma', 'log', 'log10', 'log1p', 'log2', 'modf', 'nan', 'nextafter', 'perm', 'pi', 'pow', 'prod', 'radians', 'remainder', 'sin', 'sinh', 'sqrt', 'tan', 'tanh', 'tau', 'trunc', 'ulp']\n"
     ]
    }
   ],
   "source": [
    "import math\n",
    "print(dir(math))"
   ]
  },
  {
   "cell_type": "code",
   "execution_count": 7,
   "id": "4d42ce4b",
   "metadata": {},
   "outputs": [
    {
     "name": "stdout",
     "output_type": "stream",
     "text": [
      "15\n",
      "14\n",
      "3.772267222772003\n"
     ]
    }
   ],
   "source": [
    "number = 14.23\n",
    "print(math.ceil(number))\n",
    "print(math.floor(number))\n",
    "print(math.sqrt(number))"
   ]
  },
  {
   "cell_type": "code",
   "execution_count": 8,
   "id": "59fa48e4",
   "metadata": {},
   "outputs": [
    {
     "name": "stdout",
     "output_type": "stream",
     "text": [
      "['Counter', 'Decimal', 'Fraction', 'NormalDist', 'StatisticsError', '__all__', '__builtins__', '__cached__', '__doc__', '__file__', '__loader__', '__name__', '__package__', '__spec__', '_coerce', '_convert', '_exact_ratio', '_fail_neg', '_find_lteq', '_find_rteq', '_isfinite', '_normal_dist_inv_cdf', '_ss', '_sum', 'bisect_left', 'bisect_right', 'erf', 'exp', 'fabs', 'fmean', 'fsum', 'geometric_mean', 'groupby', 'harmonic_mean', 'hypot', 'itemgetter', 'log', 'math', 'mean', 'median', 'median_grouped', 'median_high', 'median_low', 'mode', 'multimode', 'numbers', 'pstdev', 'pvariance', 'quantiles', 'random', 'sqrt', 'stdev', 'tau', 'variance']\n"
     ]
    }
   ],
   "source": [
    "import statistics as stat\n",
    "print(dir(stat))"
   ]
  },
  {
   "cell_type": "code",
   "execution_count": 15,
   "id": "597dc2c8",
   "metadata": {},
   "outputs": [
    {
     "name": "stdout",
     "output_type": "stream",
     "text": [
      "85\n",
      "98\n",
      "[98]\n",
      "83.33080230641502\n",
      "84.19682055028528\n"
     ]
    }
   ],
   "source": [
    "score = [78,98,90,75,98,85, 86, 99,84,74,60,93]\n",
    "print(stat.mean(score))\n",
    "print(stat.mode(score))\n",
    "print(stat.multimode(score))\n",
    "print(stat.harmonic_mean(score))\n",
    "print(stat.geometric_mean(score))"
   ]
  },
  {
   "cell_type": "code",
   "execution_count": 16,
   "id": "1e8f7999",
   "metadata": {},
   "outputs": [
    {
     "name": "stdout",
     "output_type": "stream",
     "text": [
      "['BPF', 'LOG4', 'NV_MAGICCONST', 'RECIP_BPF', 'Random', 'SG_MAGICCONST', 'SystemRandom', 'TWOPI', '_Sequence', '_Set', '__all__', '__builtins__', '__cached__', '__doc__', '__file__', '__loader__', '__name__', '__package__', '__spec__', '_accumulate', '_acos', '_bisect', '_ceil', '_cos', '_e', '_exp', '_floor', '_inst', '_log', '_os', '_pi', '_random', '_repeat', '_sha512', '_sin', '_sqrt', '_test', '_test_generator', '_urandom', '_warn', 'betavariate', 'choice', 'choices', 'expovariate', 'gammavariate', 'gauss', 'getrandbits', 'getstate', 'lognormvariate', 'normalvariate', 'paretovariate', 'randbytes', 'randint', 'random', 'randrange', 'sample', 'seed', 'setstate', 'shuffle', 'triangular', 'uniform', 'vonmisesvariate', 'weibullvariate']\n"
     ]
    }
   ],
   "source": [
    "import random\n",
    "print(dir(random))"
   ]
  },
  {
   "cell_type": "code",
   "execution_count": 20,
   "id": "2e8d23b5",
   "metadata": {},
   "outputs": [
    {
     "name": "stdout",
     "output_type": "stream",
     "text": [
      "98\n"
     ]
    }
   ],
   "source": [
    "print(random.choice(score))"
   ]
  },
  {
   "cell_type": "code",
   "execution_count": 22,
   "id": "a2eacdc9",
   "metadata": {},
   "outputs": [
    {
     "data": {
      "text/plain": [
       "69"
      ]
     },
     "execution_count": 22,
     "metadata": {},
     "output_type": "execute_result"
    }
   ],
   "source": [
    "random.randint(30,80)"
   ]
  },
  {
   "cell_type": "code",
   "execution_count": 23,
   "id": "0952bb04",
   "metadata": {},
   "outputs": [
    {
     "name": "stdout",
     "output_type": "stream",
     "text": [
      "[85, 93, 78, 74, 90, 98, 84, 60, 75, 99, 86, 98]\n"
     ]
    }
   ],
   "source": [
    "random.shuffle(score)\n",
    "print(score)"
   ]
  },
  {
   "cell_type": "markdown",
   "id": "19f0b98d",
   "metadata": {},
   "source": [
    "### CONDITIONAL STATEMENT"
   ]
  },
  {
   "cell_type": "code",
   "execution_count": 32,
   "id": "3a1d0574",
   "metadata": {},
   "outputs": [
    {
     "name": "stdout",
     "output_type": "stream",
     "text": [
      "Enter the weight of chicken in kg:7.5\n",
      "You would be charged extra 1500 for packaging\n"
     ]
    }
   ],
   "source": [
    "weight = 5\n",
    "weight_in_kg = float(input('Enter the weight of chicken in kg:'))\n",
    "if weight_in_kg > weight:\n",
    "    print('You would be charged extra 1500 for packaging')\n",
    "# the if condition will only be executed if the preset condition is true\n"
   ]
  },
  {
   "cell_type": "code",
   "execution_count": 35,
   "id": "9a335d64",
   "metadata": {},
   "outputs": [
    {
     "name": "stdout",
     "output_type": "stream",
     "text": [
      "Enter the weight of chicken in kg:4\n",
      "You would be charged extra fee for packaging\n"
     ]
    }
   ],
   "source": [
    "weight = 5\n",
    "weight_in_kg = float(input('Enter the weight of chicken in kg:'))\n",
    "if weight_in_kg > weight:\n",
    "    print('You would be charged extra 1500 for packaging')\n",
    "else:\n",
    "    print('You would be charged extra fee for packaging')\n",
    "# the if condition will only be executed if the preset condition is true and\n",
    "# the else block will execute if the preset condition is false"
   ]
  },
  {
   "cell_type": "markdown",
   "id": "b16c387c",
   "metadata": {},
   "source": [
    "### NESTED IF CONDITION\n",
    "### How can a restaurant use a conditional statement to determine \n",
    "### if a customer's bill exceeds a certain amount and offer them a discount or reward accordingly"
   ]
  },
  {
   "cell_type": "code",
   "execution_count": 41,
   "id": "cc0d7114",
   "metadata": {},
   "outputs": [
    {
     "name": "stdout",
     "output_type": "stream",
     "text": [
      "Customer Bill: 3500\n",
      "You have a 2% discount of 3500.0 which is 70.0\n"
     ]
    }
   ],
   "source": [
    "customer_bill = float(input('Customer Bill: '))\n",
    "if customer_bill > 2000 and customer_bill <=10000:\n",
    "    print(f'You have a 2% discount of {customer_bill} which is {customer_bill * 0.02}')\n",
    "else:\n",
    "    if customer_bill > 10000 and customer_bill <= 50000:\n",
    "        print(f'You have a 5% discount of {customer_bill} which is {customer_bill * 0.05}')\n",
    "    else:\n",
    "        if customer_bill > 50000:\n",
    "            print(f'You have 7% discount of {customer_bill} which is {customer_bill * 0.07}')\n",
    "        else:\n",
    "            print('No reward this time. Please upgrade your order.')\n",
    "        "
   ]
  },
  {
   "cell_type": "code",
   "execution_count": 44,
   "id": "7b87ab7b",
   "metadata": {},
   "outputs": [
    {
     "name": "stdout",
     "output_type": "stream",
     "text": [
      "Customer Bill: 1900\n",
      "No reward this time. Please upgrade your order.\n"
     ]
    }
   ],
   "source": [
    "customer_bill = float(input('Customer Bill: '))\n",
    "if customer_bill > 2000 and customer_bill <=10000:\n",
    "    print(f'You have a 2% discount of {customer_bill} which is {customer_bill * 0.02}')\n",
    "elif customer_bill > 10000 and customer_bill <= 50000:\n",
    "    print(f'You have a 5% discount of {customer_bill} which is {customer_bill * 0.05}')\n",
    "elif customer_bill > 50000:\n",
    "    print(f'You have 7% discount of {customer_bill} which is {customer_bill * 0.07}')\n",
    "else:\n",
    "    print('No reward this time. Please upgrade your order.')"
   ]
  },
  {
   "cell_type": "code",
   "execution_count": null,
   "id": "02c84e76",
   "metadata": {},
   "outputs": [],
   "source": []
  }
 ],
 "metadata": {
  "kernelspec": {
   "display_name": "Python 3 (ipykernel)",
   "language": "python",
   "name": "python3"
  },
  "language_info": {
   "codemirror_mode": {
    "name": "ipython",
    "version": 3
   },
   "file_extension": ".py",
   "mimetype": "text/x-python",
   "name": "python",
   "nbconvert_exporter": "python",
   "pygments_lexer": "ipython3",
   "version": "3.9.12"
  }
 },
 "nbformat": 4,
 "nbformat_minor": 5
}
