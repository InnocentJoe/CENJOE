{
 "cells": [
  {
   "cell_type": "markdown",
   "id": "827adafb-5242-48e4-b62b-c16bbee20cb3",
   "metadata": {
    "tags": []
   },
   "source": [
    "# Mini test\n",
    "### WRITE A PROGRAM THAT WILL ALLOW USER TO ANSWER FIVE RANDOM SIMPLE ADDITION QUESTIONS.\n",
    "### FOR EACH CORRECT ANSWER, USER GETS 10 MARKS, ELSE 0 AFTER THE OVER ALL SCORE\n",
    "\n",
    "# Complete the mini test exercise by finding how many \n",
    "# seconds the user used in answering those five random question"
   ]
  },
  {
   "cell_type": "code",
   "execution_count": 12,
   "id": "69e28b7a-0224-4298-a8eb-076e769163db",
   "metadata": {
    "scrolled": true,
    "tags": []
   },
   "outputs": [
    {
     "name": "stdin",
     "output_type": "stream",
     "text": [
      "28 + 10 =  38\n",
      "70 + 71 =  141\n",
      "26 + 1 =  27\n",
      "13 + 40 =  52\n",
      "24 + 9 =  33\n"
     ]
    },
    {
     "name": "stdout",
     "output_type": "stream",
     "text": [
      "Your total score: 40. Time taken to complete answers: 10s\n"
     ]
    }
   ],
   "source": [
    "import datetime\n",
    "starttime = datetime.datetime.now()\n",
    "import random\n",
    "score = 0\n",
    "for x in range(1,6):\n",
    "    num1 = random.randint(1,99)\n",
    "    num2 = random.randint(1,99)\n",
    "    answer = int(input(f'{num1} + {num2} = '))\n",
    "    total = sum([num1,num2])\n",
    "    if answer == total:\n",
    "        score += 10\n",
    "    else:\n",
    "        score += 0 \n",
    "stoptime =datetime.datetime.now()\n",
    "diff = stoptime - starttime\n",
    "print(f'Your total score: {score}. Time taken to complete\\\n",
    " answers: {diff.seconds} seconds')"
   ]
  },
  {
   "cell_type": "code",
   "execution_count": null,
   "id": "62059b4e-79ed-44a7-9ad9-deb91b667eda",
   "metadata": {},
   "outputs": [],
   "source": []
  }
 ],
 "metadata": {
  "kernelspec": {
   "display_name": "Python 3 (ipykernel)",
   "language": "python",
   "name": "python3"
  },
  "language_info": {
   "codemirror_mode": {
    "name": "ipython",
    "version": 3
   },
   "file_extension": ".py",
   "mimetype": "text/x-python",
   "name": "python",
   "nbconvert_exporter": "python",
   "pygments_lexer": "ipython3",
   "version": "3.9.12"
  }
 },
 "nbformat": 4,
 "nbformat_minor": 5
}
