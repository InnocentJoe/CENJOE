{
 "cells": [
  {
   "cell_type": "markdown",
   "id": "4eddab52-f8fc-42c2-afb8-9057f40199b7",
   "metadata": {},
   "source": [
    "# Complete the min test exercise by finding how many seconds \n",
    "# the user used in answering those five random question."
   ]
  },
  {
   "cell_type": "code",
   "execution_count": 4,
   "id": "f8db3281-f7d2-4f97-b00e-e537a71c2813",
   "metadata": {},
   "outputs": [
    {
     "name": "stdout",
     "output_type": "stream",
     "text": [
      "['MAXYEAR', 'MINYEAR', '__all__', '__builtins__', '__cached__', '__doc__', '__file__', '__loader__', '__name__', '__package__', '__spec__', 'date', 'datetime', 'datetime_CAPI', 'sys', 'time', 'timedelta', 'timezone', 'tzinfo']\n"
     ]
    }
   ],
   "source": [
    "import datetime\n",
    "print(dir(datetime))"
   ]
  },
  {
   "cell_type": "markdown",
   "id": "8f3bb96d-3f62-4a83-943f-432bf98fc684",
   "metadata": {},
   "source": [
    "score = 0\n",
    "for x in range(1,6):\n",
    "    num1 = random.randint(1,99)\n",
    "    num2 = random.randint(1,99)\n",
    "    answer = int(input(f'{num1} + {num2} = '))\n",
    "    total = sum([num1,num2])\n",
    "    if answer == total:\n",
    "        score += 10\n",
    "    else:\n",
    "        score += 0\n",
    "current_time = datetime.datetime.now().time()\n",
    "current_time.strftime('%S')\n",
    "print(f'The total score is {score} and time taken to complete your answers is seco')"
   ]
  }
 ],
 "metadata": {
  "kernelspec": {
   "display_name": "Python 3 (ipykernel)",
   "language": "python",
   "name": "python3"
  },
  "language_info": {
   "codemirror_mode": {
    "name": "ipython",
    "version": 3
   },
   "file_extension": ".py",
   "mimetype": "text/x-python",
   "name": "python",
   "nbconvert_exporter": "python",
   "pygments_lexer": "ipython3",
   "version": "3.9.12"
  }
 },
 "nbformat": 4,
 "nbformat_minor": 5
}
