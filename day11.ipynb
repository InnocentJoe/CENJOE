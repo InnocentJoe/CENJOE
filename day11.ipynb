{
 "cells": [
  {
   "cell_type": "markdown",
   "id": "62768dfe-681b-403d-a3a8-a050a5eb34af",
   "metadata": {},
   "source": [
    "# Map and Filter"
   ]
  },
  {
   "cell_type": "markdown",
   "id": "a91b9018-aecc-4697-a121-7002bd615e41",
   "metadata": {},
   "source": [
    "# Map"
   ]
  },
  {
   "cell_type": "code",
   "execution_count": 5,
   "id": "56de0d37-8d53-4833-964b-0ac048fa1516",
   "metadata": {},
   "outputs": [
    {
     "name": "stdout",
     "output_type": "stream",
     "text": [
      "['ROCKY', 'BATTY', 'JACK', 'BINGO', 'BANE', 'CHINO']\n"
     ]
    }
   ],
   "source": [
    "petname = ['rocky', 'batty', 'jack', 'bingo', 'bane', 'chino']\n",
    "updatepetname = list(map(lambda x: x.upper(), petname))\n",
    "print(updatepetname)"
   ]
  },
  {
   "cell_type": "markdown",
   "id": "7bfa7a9a-14d3-492a-9a69-158b4effd6b8",
   "metadata": {},
   "source": [
    "# Filter"
   ]
  },
  {
   "cell_type": "code",
   "execution_count": 3,
   "id": "8bdcbbe9-9aa3-4232-ae8b-d5517821b124",
   "metadata": {},
   "outputs": [
    {
     "name": "stdout",
     "output_type": "stream",
     "text": [
      "['batty', 'bingo', 'bane']\n"
     ]
    }
   ],
   "source": [
    "petname = ['rocky', 'batty', 'jack', 'bingo', 'bane', 'chino']\n",
    "updatepetname2 = list(filter(lambda x: x.startswith('b'), petname))\n",
    "print(updatepetname2)"
   ]
  },
  {
   "cell_type": "code",
   "execution_count": 36,
   "id": "acba47d8-6a67-4b67-8d11-d120445deeee",
   "metadata": {},
   "outputs": [
    {
     "name": "stdout",
     "output_type": "stream",
     "text": [
      "50\n",
      "[25, 41, 23, 63, 56, 22, 22, 19, 51, 62, 23, 55, 52, 21, 67, 45, 61, 21, 39, 25, 36, 15, 16, 23, 33, 17, 57, 50, 64, 65, 37, 34, 49, 56, 28, 43, 38, 44, 16, 64, 27, 62, 69, 23, 50, 38, 20, 21, 43, 18]\n"
     ]
    }
   ],
   "source": [
    "import random\n",
    "outcome = []\n",
    "counter = 1\n",
    "while counter <= 50:\n",
    "    num = random.randint(14,75)\n",
    "    outcome.append(num)\n",
    "    counter += 1\n",
    "print(len(outcome))\n",
    "print(outcome)"
   ]
  },
  {
   "cell_type": "markdown",
   "id": "5fbc4a59-94e7-4ba3-aaa9-a3de4e0f2a00",
   "metadata": {},
   "source": [
    "# EXCERCISE\n",
    "# Modify the above outcome by finding the i. sqrt, ii. log, iii. cos\n",
    "# Filter by returning the odd and even numbers"
   ]
  },
  {
   "cell_type": "code",
   "execution_count": 37,
   "id": "2c1f2000-cb0d-44b7-98a3-aa789ddd9e83",
   "metadata": {},
   "outputs": [
    {
     "name": "stdout",
     "output_type": "stream",
     "text": [
      "[0.9912028118634736, -0.9873392775238264, -0.5328330203333975, 0.9858965815825497, 0.853220107722584, -0.9999608263946371, -0.9999608263946371, 0.9887046181866692, 0.7421541968137826, 0.6735071623235862, -0.5328330203333975, 0.022126756261955736, -0.16299078079570548, -0.5477292602242684, -0.5177697997895051, 0.5253219888177297, -0.25810163593826746, -0.5477292602242684, 0.26664293235993725, 0.9912028118634736, -0.12796368962740468, -0.7596879128588213, -0.9576594803233847, -0.5328330203333975, -0.013276747223059479, -0.27516333805159693, 0.8998668269691937, 0.9649660284921133, 0.39185723042955, -0.562453851238172, 0.7654140519453434, -0.8485702747846052, 0.3005925437436371, 0.853220107722584, -0.9626058663135666, 0.5551133015206257, 0.9550736440472949, 0.9998433086476912, -0.9576594803233847, 0.39185723042955, -0.2921388087338362, 0.6735071623235862, 0.9933903797222716, -0.5328330203333975, 0.9649660284921133, 0.9550736440472949, 0.40808206181339196, -0.5477292602242684, 0.5551133015206257, 0.6603167082440802]\n",
      "[5.0, 6.4031242374328485, 4.795831523312719, 7.937253933193772, 7.483314773547883, 4.69041575982343, 4.69041575982343, 4.358898943540674, 7.14142842854285, 7.874007874011811, 4.795831523312719, 7.416198487095663, 7.211102550927978, 4.58257569495584, 8.18535277187245, 6.708203932499369, 7.810249675906654, 4.58257569495584, 6.244997998398398, 5.0, 6.0, 3.872983346207417, 4.0, 4.795831523312719, 5.744562646538029, 4.123105625617661, 7.54983443527075, 7.0710678118654755, 8.0, 8.06225774829855, 6.082762530298219, 5.830951894845301, 7.0, 7.483314773547883, 5.291502622129181, 6.557438524302, 6.164414002968976, 6.6332495807108, 4.0, 8.0, 5.196152422706632, 7.874007874011811, 8.306623862918075, 4.795831523312719, 7.0710678118654755, 6.164414002968976, 4.47213595499958, 4.58257569495584, 6.557438524302, 4.242640687119285]\n",
      "[3.2188758248682006, 3.713572066704308, 3.1354942159291497, 4.143134726391533, 4.02535169073515, 3.091042453358316, 3.091042453358316, 2.9444389791664403, 3.9318256327243257, 4.127134385045092, 3.1354942159291497, 4.007333185232471, 3.9512437185814275, 3.044522437723423, 4.204692619390966, 3.8066624897703196, 4.110873864173311, 3.044522437723423, 3.6635616461296463, 3.2188758248682006, 3.58351893845611, 2.70805020110221, 2.772588722239781, 3.1354942159291497, 3.4965075614664802, 2.833213344056216, 4.04305126783455, 3.912023005428146, 4.1588830833596715, 4.174387269895637, 3.6109179126442243, 3.5263605246161616, 3.8918202981106265, 4.02535169073515, 3.332204510175204, 3.7612001156935624, 3.6375861597263857, 3.784189633918261, 2.772588722239781, 4.1588830833596715, 3.295836866004329, 4.127134385045092, 4.23410650459726, 3.1354942159291497, 3.912023005428146, 3.6375861597263857, 2.995732273553991, 3.044522437723423, 3.7612001156935624, 2.8903717578961645]\n"
     ]
    }
   ],
   "source": [
    "import math\n",
    "cos = list(map(lambda x: math.cos(x), outcome))\n",
    "sqrt = list(map(lambda x: math.sqrt(x), outcome))\n",
    "log = list(map(lambda x: math.log(x), outcome))\n",
    "print(cos)\n",
    "print(sqrt)\n",
    "print(log)"
   ]
  },
  {
   "cell_type": "code",
   "execution_count": 39,
   "id": "a86d608f-55bd-4dab-95ec-e8dcd1f1168d",
   "metadata": {},
   "outputs": [
    {
     "name": "stdout",
     "output_type": "stream",
     "text": [
      "[56, 22, 22, 62, 52, 36, 16, 50, 64, 34, 56, 28, 38, 44, 16, 64, 62, 50, 38, 20, 18]\n",
      "[25, 41, 23, 63, 19, 51, 23, 55, 21, 67, 45, 61, 21, 39, 25, 15, 23, 33, 17, 57, 65, 37, 49, 43, 27, 69, 23, 21, 43]\n"
     ]
    }
   ],
   "source": [
    "even = list(filter(lambda x:x % 2 == 0, outcome))\n",
    "odd = list(filter(lambda x:x % 2 == 1, outcome))\n",
    "print(even)\n",
    "print(odd)"
   ]
  },
  {
   "cell_type": "markdown",
   "id": "23584144-2429-4d0a-a0f1-26e5503185c7",
   "metadata": {},
   "source": [
    "# File hanling"
   ]
  },
  {
   "cell_type": "code",
   "execution_count": 44,
   "id": "fd892f43-f7dc-4fe8-bb70-4bce207bbf77",
   "metadata": {},
   "outputs": [],
   "source": [
    "file = open('demo.txt', 'w')\n",
    "file.write('''Python is fun\n",
    "Python is great\n",
    "Python is easy\n",
    "Python has an interactive environment\n",
    "''')\n",
    "file.close()"
   ]
  },
  {
   "cell_type": "code",
   "execution_count": 41,
   "id": "f657d466-24b9-4c91-923d-09c7e1fe806a",
   "metadata": {},
   "outputs": [
    {
     "name": "stdout",
     "output_type": "stream",
     "text": [
      "Python is fun\n",
      "Python is great\n",
      "Python is easy\n",
      "Python has an interactive environment\n",
      "\n"
     ]
    }
   ],
   "source": [
    "file = open('demo.txt', 'r')\n",
    "print(file.read())\n",
    "file.close()"
   ]
  },
  {
   "cell_type": "code",
   "execution_count": 45,
   "id": "13886787-6303-4fb6-836f-03178ead7f0c",
   "metadata": {},
   "outputs": [],
   "source": [
    "file = open('demo.txt', 'a')\n",
    "file.write('Contact us now!')\n",
    "file.close()"
   ]
  },
  {
   "cell_type": "code",
   "execution_count": 50,
   "id": "6d346845-ea00-4eca-a502-976ac0e3fac8",
   "metadata": {},
   "outputs": [
    {
     "name": "stdout",
     "output_type": "stream",
     "text": [
      "Let us do this!Python is great\n",
      "Python is easy\n",
      "Python has an interactive environment\n",
      "Contact us now!Let us do this!\n"
     ]
    }
   ],
   "source": [
    "file = open('demo.txt', 'r+')\n",
    "print(file.read())\n",
    "file.write('\\nLet us do this!')\n",
    "file.close()"
   ]
  },
  {
   "cell_type": "code",
   "execution_count": null,
   "id": "fd6bd189-c3a1-43dd-8cc7-f7a0da99c8f3",
   "metadata": {},
   "outputs": [],
   "source": []
  }
 ],
 "metadata": {
  "kernelspec": {
   "display_name": "Python 3 (ipykernel)",
   "language": "python",
   "name": "python3"
  },
  "language_info": {
   "codemirror_mode": {
    "name": "ipython",
    "version": 3
   },
   "file_extension": ".py",
   "mimetype": "text/x-python",
   "name": "python",
   "nbconvert_exporter": "python",
   "pygments_lexer": "ipython3",
   "version": "3.9.12"
  }
 },
 "nbformat": 4,
 "nbformat_minor": 5
}
