{
 "cells": [
  {
   "cell_type": "markdown",
   "id": "04efc833",
   "metadata": {},
   "source": [
    "# CLASS AND OBJECT (OOP)"
   ]
  },
  {
   "cell_type": "code",
   "execution_count": 2,
   "id": "8da1027c",
   "metadata": {},
   "outputs": [
    {
     "data": {
      "text/plain": [
       "'bird'"
      ]
     },
     "execution_count": 2,
     "metadata": {},
     "output_type": "execute_result"
    }
   ],
   "source": [
    "class pet:\n",
    "    attr1 = 'bird'\n",
    "    attr2 = 'mammal'\n",
    "obj = pet()\n",
    "obj.attr1"
   ]
  },
  {
   "cell_type": "code",
   "execution_count": 8,
   "id": "c4b7e50c",
   "metadata": {},
   "outputs": [
    {
     "name": "stdout",
     "output_type": "stream",
     "text": [
      "Name: Bird\n",
      "Family: Mammal\n",
      "\n"
     ]
    }
   ],
   "source": [
    "class pet:\n",
    "    attr1 = 'Bird'\n",
    "    attr2 = 'Mammal'\n",
    "    \n",
    "    def details(self):\n",
    "        print(f'''Name: {self.attr1}\n",
    "Family: {self.attr2}\n",
    "''')\n",
    "obj = pet()\n",
    "obj.details()"
   ]
  },
  {
   "cell_type": "code",
   "execution_count": 12,
   "id": "11f68765",
   "metadata": {},
   "outputs": [
    {
     "name": "stdout",
     "output_type": "stream",
     "text": [
      "Enter your pin: 2121\n",
      "Choose operation [deposit,transfer,airtime,checkbalance,logout]: transfer\n",
      "Enter deposit amount: 20000\n",
      "Insufficient fund or Zero\n",
      "Enter your pin: 2121\n",
      "Choose operation [deposit,transfer,airtime,checkbalance,logout]: deposit\n",
      "Enter deposit amount: 78000\n",
      "Transaction successful\n",
      "Enter your pin: 2121\n",
      "Choose operation [deposit,transfer,airtime,checkbalance,logout]: transfer\n",
      "Enter deposit amount: 20000\n",
      "Enter account number: 1017245387\n",
      "Enter bank name: UBA\n",
      "Enter account holder: Innocent E\n",
      "Transaction successful\n",
      "Enter your pin: 2121\n",
      "Choose operation [deposit,transfer,airtime,checkbalance,logout]: airtime\n",
      "Enter airtime amount: 2000\n",
      "Enter phone number: 08069716521\n",
      "Enter network provider: MTN\n",
      "Transaction successful\n",
      "Enter your pin: 2121\n",
      "Choose operation [deposit,transfer,airtime,checkbalance,logout]: checkbalance\n",
      "Avalaible balance is 56000.0\n",
      "Enter your pin: 2121\n",
      "Choose operation [deposit,transfer,airtime,checkbalance,logout]: logout\n",
      "Logging out!\n"
     ]
    }
   ],
   "source": [
    "class app:\n",
    "    def __init__(self):\n",
    "        self.balance = 0\n",
    "        \n",
    "    def deposit(self):\n",
    "        amount = float(input('Enter deposit amount: '))\n",
    "        self.balance += amount\n",
    "        print('Transaction successful')\n",
    "    def transfer(self):\n",
    "        amount = float(input('Enter deposit amount: '))\n",
    "        if amount > self.balance or amount == 0:\n",
    "            print('Insufficient fund or Zero')\n",
    "        else:\n",
    "            accountnumber = input('Enter account number: ')\n",
    "            bankname = input('Enter bank name: ')\n",
    "            accountname = input('Enter account holder: ')\n",
    "            self.balance -= amount\n",
    "            print('Transaction successful')\n",
    "                \n",
    "    def airtime(self):\n",
    "        amount = float(input('Enter airtime amount: '))\n",
    "        if amount > self.balance or amount == 0:\n",
    "                print('Insufficient fund or Zero')\n",
    "        else:\n",
    "            phonenumber = input('Enter phone number: ')\n",
    "            provider = input('Enter network provider: ')\n",
    "            self.balance -= amount\n",
    "            print('Transaction successful')\n",
    "                \n",
    "    def data(self):\n",
    "        amount = float(input('Enter deposit amount: '))\n",
    "        if amount > self.balance or amount == 0:\n",
    "            print('Insufficient fund or Zero')\n",
    "        else:\n",
    "            phonenumber = input('Enter account number: ')\n",
    "            provider = input('Enter bank name: ')\n",
    "            self.balance -= amount\n",
    "            print('Transaction successful')\n",
    "                \n",
    "    def checkbalance(self):\n",
    "        print(f'Avalaible balance is {self.balance}')\n",
    "program = app()\n",
    "passid ='2121'\n",
    "pin = input('Enter your pin: ')\n",
    "counter = 0\n",
    "while passid == pin:\n",
    "    operation = input('Choose operation [deposit,transfer,airtime,checkbalance,data,logout]: ')\n",
    "    if operation == 'deposit':\n",
    "        program.deposit()\n",
    "    elif  operation == 'transfer':\n",
    "        program.transfer()\n",
    "    elif  operation == 'airtime':\n",
    "        program.airtime()\n",
    "    elif  operation == 'data':\n",
    "        program.data()\n",
    "    elif  operation == 'checkbalance':\n",
    "        program.checkbalance()\n",
    "    elif  operation == 'logout':\n",
    "        print('Logging out!')\n",
    "        break\n",
    "    counter +=1\n",
    "    pin = input('Enter your pin: ')"
   ]
  },
  {
   "cell_type": "code",
   "execution_count": null,
   "id": "0c642d3d",
   "metadata": {},
   "outputs": [],
   "source": [
    "program.deposit()"
   ]
  },
  {
   "cell_type": "code",
   "execution_count": 27,
   "id": "66ac1ed6",
   "metadata": {},
   "outputs": [
    {
     "name": "stdout",
     "output_type": "stream",
     "text": [
      "Enter airtime amount: 2000\n",
      "Enter phone number: 07037205626\n",
      "Enter network provider: MTN\n",
      "Transaction successful\n"
     ]
    }
   ],
   "source": [
    "program.airtime()"
   ]
  },
  {
   "cell_type": "raw",
   "id": "f8c67a80",
   "metadata": {},
   "source": [
    "program.checkbalance()"
   ]
  },
  {
   "cell_type": "code",
   "execution_count": 3,
   "id": "a8e4af0a",
   "metadata": {},
   "outputs": [],
   "source": [
    "class app:\n",
    "    def __init__(self):\n",
    "        self.balance = 0\n",
    "        \n",
    "    def deposit(self):\n",
    "        amount = float(input('Enter deposit amount'))\n",
    "        self.balance += amount\n",
    "        print('Transaction successful')\n",
    "    def transfer(self):\n",
    "        amount = float(input('Enter deposit amount: '))\n",
    "        if amount > self.balance or amount == 0:\n",
    "            print('Insufficient fund or Zero')\n",
    "        else:\n",
    "            accountnumber = input('Enter account number: ')\n",
    "            bankname = input('Enter bank name: ')\n",
    "            accountname = input('Enter account holder: ')\n",
    "            self.balance -= amount\n",
    "            print('Transaction successful')\n",
    "                \n",
    "    def airtime(self):\n",
    "        amount = float(input('Enter airtime amount: '))\n",
    "        if amount > self.balance or amount == 0:\n",
    "                print('Insufficient fund or Zero')\n",
    "        else:\n",
    "            phonenumber = input('Enter phone number: ')\n",
    "            provider = input('Enter network provider: ')\n",
    "            self.balance -= amount\n",
    "            print('Transaction successful')\n",
    "                \n",
    "    def data(self):\n",
    "        amount = float(input('Enter deposit amount: '))\n",
    "        if amount > self.balance or amount == 0:\n",
    "            print('Insufficient fund or Zero')\n",
    "        else:\n",
    "            phonenumber = input('Enter account number: ')\n",
    "            provider = input('Enter bank name: ')\n",
    "            self.balance -= amount\n",
    "            print('Transaction successful')\n",
    "                \n",
    "    def checkbalance(self):\n",
    "        print(f'Avalaible balance is {self.balance}')\n",
    "program = app()"
   ]
  },
  {
   "cell_type": "code",
   "execution_count": 7,
   "id": "87a23549",
   "metadata": {},
   "outputs": [
    {
     "name": "stdout",
     "output_type": "stream",
     "text": [
      "Avalaible balance is 33000.0\n"
     ]
    }
   ],
   "source": [
    "program.checkbalance()"
   ]
  },
  {
   "cell_type": "code",
   "execution_count": 5,
   "id": "35415f05",
   "metadata": {},
   "outputs": [
    {
     "name": "stdout",
     "output_type": "stream",
     "text": [
      "Enter deposit amount50000\n",
      "Transaction successful\n"
     ]
    }
   ],
   "source": [
    "program.deposit()"
   ]
  },
  {
   "cell_type": "code",
   "execution_count": 6,
   "id": "a950f1b3",
   "metadata": {},
   "outputs": [
    {
     "name": "stdout",
     "output_type": "stream",
     "text": [
      "Enter deposit amount: 17000\n",
      "Enter account number: 1017245387\n",
      "Enter bank name: UBA\n",
      "Enter account holder: Ezugwu Innocent\n",
      "Transaction successful\n"
     ]
    }
   ],
   "source": [
    "program.transfer()"
   ]
  },
  {
   "cell_type": "code",
   "execution_count": null,
   "id": "951191f0",
   "metadata": {},
   "outputs": [],
   "source": []
  }
 ],
 "metadata": {
  "kernelspec": {
   "display_name": "Python 3 (ipykernel)",
   "language": "python",
   "name": "python3"
  },
  "language_info": {
   "codemirror_mode": {
    "name": "ipython",
    "version": 3
   },
   "file_extension": ".py",
   "mimetype": "text/x-python",
   "name": "python",
   "nbconvert_exporter": "python",
   "pygments_lexer": "ipython3",
   "version": "3.9.12"
  }
 },
 "nbformat": 4,
 "nbformat_minor": 5
}
