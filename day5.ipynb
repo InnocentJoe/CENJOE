{
 "cells": [
  {
   "cell_type": "markdown",
   "id": "19586c14",
   "metadata": {},
   "source": [
    "### LOOPS"
   ]
  },
  {
   "cell_type": "code",
   "execution_count": null,
   "id": "0cbf7d52",
   "metadata": {},
   "outputs": [],
   "source": [
    "# for loops\n",
    "# while loops"
   ]
  },
  {
   "cell_type": "code",
   "execution_count": 1,
   "id": "594d36d3",
   "metadata": {},
   "outputs": [
    {
     "name": "stdout",
     "output_type": "stream",
     "text": [
      "ppp\n",
      "yyy\n",
      "ttt\n",
      "hhh\n",
      "ooo\n",
      "nnn\n"
     ]
    }
   ],
   "source": [
    "word = 'python'\n",
    "for char in word:\n",
    "    print(char * 3)"
   ]
  },
  {
   "cell_type": "code",
   "execution_count": 2,
   "id": "fcdc4343",
   "metadata": {},
   "outputs": [
    {
     "name": "stdout",
     "output_type": "stream",
     "text": [
      "ppp::yyy::ttt::hhh::ooo::nnn::"
     ]
    }
   ],
   "source": [
    "word = 'python'\n",
    "for char in word:\n",
    "    print(char * 3, end = '::')"
   ]
  },
  {
   "cell_type": "code",
   "execution_count": 4,
   "id": "1737daf8",
   "metadata": {},
   "outputs": [
    {
     "name": "stdout",
     "output_type": "stream",
     "text": [
      "_________STUDENT DETAILS___________\n",
      "    REGISTRATION ID: STOO1\n",
      "    NAME: Henry Ford\n",
      "    GENDER: Male\n",
      "    AGE: 27\n",
      "    PMP: 80\n",
      "    AGILE: 78\n",
      "    PYTHON: 75\n",
      "    DATA ANALYSIS: 80\n",
      "    OVERAL PERCENTAGE: 78.25%\n",
      "    \n",
      "_________STUDENT DETAILS___________\n",
      "    REGISTRATION ID: STOO2\n",
      "    NAME: Emmanuel Okeke\n",
      "    GENDER: Male\n",
      "    AGE: 30\n",
      "    PMP: 90\n",
      "    AGILE: 70\n",
      "    PYTHON: 65\n",
      "    DATA ANALYSIS: 82\n",
      "    OVERAL PERCENTAGE: 76.75%\n",
      "    \n",
      "_________STUDENT DETAILS___________\n",
      "    REGISTRATION ID: STOO3\n",
      "    NAME: Eniola Tobi\n",
      "    GENDER: Female\n",
      "    AGE: 25\n",
      "    PMP: 81\n",
      "    AGILE: 72\n",
      "    PYTHON: 90\n",
      "    DATA ANALYSIS: 85\n",
      "    OVERAL PERCENTAGE: 82.0%\n",
      "    \n",
      "_________STUDENT DETAILS___________\n",
      "    REGISTRATION ID: STOO4\n",
      "    NAME: Angela Ojo\n",
      "    GENDER: Female\n",
      "    AGE: 32\n",
      "    PMP: 86\n",
      "    AGILE: 94\n",
      "    PYTHON: 77\n",
      "    DATA ANALYSIS: 89\n",
      "    OVERAL PERCENTAGE: 86.5%\n",
      "    \n",
      "_________STUDENT DETAILS___________\n",
      "    REGISTRATION ID: STOO5\n",
      "    NAME: Magnus Uraka\n",
      "    GENDER: Male\n",
      "    AGE: 35\n",
      "    PMP: 86\n",
      "    AGILE: 80\n",
      "    PYTHON: 99\n",
      "    DATA ANALYSIS: 96\n",
      "    OVERAL PERCENTAGE: 90.25%\n",
      "    \n",
      "_________STUDENT DETAILS___________\n",
      "    REGISTRATION ID: STOO6\n",
      "    NAME: Joshua Samuel\n",
      "    GENDER: Male\n",
      "    AGE: 28\n",
      "    PMP: 84\n",
      "    AGILE: 77\n",
      "    PYTHON: 83\n",
      "    DATA ANALYSIS: 81\n",
      "    OVERAL PERCENTAGE: 81.25%\n",
      "    \n"
     ]
    }
   ],
   "source": [
    "records = {\n",
    "    'ST001':['Henry Ford', 'Male', 27,80,78,75,80],\n",
    "    'ST002':['Emmanuel Okeke', 'Male', 30,90,70,65,82],\n",
    "    'ST003':['Eniola Tobi', 'Female', 25,81,72,90,85],\n",
    "    'ST004':['Angela Ojo', 'Female', 32,86,94,77,89],\n",
    "    'ST005':['Magnus Uraka', 'Male', 35,86,80,99,96],\n",
    "    'ST006':['Joshua Samuel', 'Male', 28,84,77,83,81]\n",
    "}\n",
    "for ID in records:\n",
    "    print(f'''_________STUDENT DETAILS___________\n",
    "    REGISTRATION ID: {ID}\n",
    "    NAME: {records[ID][0]}\n",
    "    GENDER: {records[ID][1]}\n",
    "    AGE: {records[ID][2]}\n",
    "    PMP: {records[ID][3]}\n",
    "    AGILE: {records[ID][4]}\n",
    "    PYTHON: {records[ID][5]}\n",
    "    DATA ANALYSIS: {records[ID][6]}\n",
    "    OVERAL PERCENTAGE: {(records[ID][3] + records[ID][4] + records[ID][5] + records[ID][6])/4}%\n",
    "    ''')"
   ]
  },
  {
   "cell_type": "code",
   "execution_count": 7,
   "id": "1533a942",
   "metadata": {},
   "outputs": [
    {
     "name": "stdout",
     "output_type": "stream",
     "text": [
      "Enter your id to check your result: ST003\n",
      "_________STUDENT DETAILS___________\n",
      "    REGISTRATION ID: ST003\n",
      "    NAME: Eniola Tobi\n",
      "    GENDER: Female\n",
      "    AGE: 25\n",
      "    PMP: 81\n",
      "    AGILE: 72\n",
      "    PYTHON: 90\n",
      "    DATA ANALYSIS: 85\n",
      "    OVERAL PERCENTAGE: 82.0%\n",
      "    \n"
     ]
    }
   ],
   "source": [
    "records = {\n",
    "    'ST001':['Henry Ford', 'Male', 27,80,78,75,80],\n",
    "    'ST002':['Emmanuel Okeke', 'Male', 30,90,70,65,82],\n",
    "    'ST003':['Eniola Tobi', 'Female', 25,81,72,90,85],\n",
    "    'ST004':['Angela Ojo', 'Female', 32,86,94,77,89],\n",
    "    'ST005':['Magnus Uraka', 'Male', 35,86,80,99,96],\n",
    "    'ST006':['Joshua Samuel', 'Male', 28,84,77,83,81]\n",
    "}\n",
    "studentid = input('Enter your id to check your result: ')\n",
    "for ID in records:\n",
    "    if ID == studentid:\n",
    "        print(f'''_________STUDENT DETAILS___________\n",
    "    REGISTRATION ID: {ID}\n",
    "    NAME: {records[ID][0]}\n",
    "    GENDER: {records[ID][1]}\n",
    "    AGE: {records[ID][2]}\n",
    "    PMP: {records[ID][3]}\n",
    "    AGILE: {records[ID][4]}\n",
    "    PYTHON: {records[ID][5]}\n",
    "    DATA ANALYSIS: {records[ID][6]}\n",
    "    OVERAL PERCENTAGE: {(records[ID][3] + records[ID][4] + records[ID][5] + records[ID][6])/4}%\n",
    "    ''')"
   ]
  },
  {
   "cell_type": "code",
   "execution_count": 13,
   "id": "5ca1a5df",
   "metadata": {},
   "outputs": [
    {
     "name": "stdout",
     "output_type": "stream",
     "text": [
      "Enter your id to check your result: ST009\n",
      "Record not found\n",
      "Record not found\n",
      "Record not found\n",
      "Record not found\n",
      "Record not found\n",
      "Record not found\n"
     ]
    }
   ],
   "source": [
    "records = {\n",
    "    'ST001':['Henry Ford', 'Male', 27,80,78,75,80],\n",
    "    'ST002':['Emmanuel Okeke', 'Male', 30,90,70,65,82],\n",
    "    'ST003':['Eniola Tobi', 'Female', 25,81,72,90,85],\n",
    "    'ST004':['Angela Ojo', 'Female', 32,86,94,77,89],\n",
    "    'ST005':['Magnus Uraka', 'Male', 35,86,80,99,96],\n",
    "    'ST006':['Joshua Samuel', 'Male', 28,84,77,83,81]\n",
    "}\n",
    "studentid = input('Enter your id to check your result: ')\n",
    "for ID in records:\n",
    "    if ID == studentid:\n",
    "        print(f'''_________STUDENT DETAILS___________\n",
    "    REGISTRATION ID: {ID}\n",
    "    NAME: {records[ID][0]}\n",
    "    GENDER: {records[ID][1]}\n",
    "    AGE: {records[ID][2]}\n",
    "    PMP: {records[ID][3]}\n",
    "    AGILE: {records[ID][4]}\n",
    "    PYTHON: {records[ID][5]}\n",
    "    DATA ANALYSIS: {records[ID][6]}\n",
    "    OVERAL PERCENTAGE: {(records[ID][3] + records[ID][4] + records[ID][5] + records[ID][6])/4}%\n",
    "    ''')\n",
    "    else:\n",
    "        print('Record not found')"
   ]
  },
  {
   "cell_type": "code",
   "execution_count": 14,
   "id": "158803a9",
   "metadata": {},
   "outputs": [
    {
     "name": "stdout",
     "output_type": "stream",
     "text": [
      "Enter your id to check your result: ST008\n",
      "Record not found\n"
     ]
    }
   ],
   "source": [
    "records = {\n",
    "    'ST001':['Henry Ford', 'Male', 27,80,78,75,80],\n",
    "    'ST002':['Emmanuel Okeke', 'Male', 30,90,70,65,82],\n",
    "    'ST003':['Eniola Tobi', 'Female', 25,81,72,90,85],\n",
    "    'ST004':['Angela Ojo', 'Female', 32,86,94,77,89],\n",
    "    'ST005':['Magnus Uraka', 'Male', 35,86,80,99,96],\n",
    "    'ST006':['Joshua Samuel', 'Male', 28,84,77,83,81]\n",
    "}\n",
    "studentid = input('Enter your id to check your result: ')\n",
    "for ID in records:\n",
    "    if ID == studentid:\n",
    "        print(f'''_________STUDENT DETAILS___________\n",
    "REGISTRATION ID: {ID}\n",
    "NAME: {records[ID][0]}\n",
    "GENDER: {records[ID][1]}\n",
    "AGE: {records[ID][2]}\n",
    "PMP: {records[ID][3]}\n",
    "AGILE: {records[ID][4]}\n",
    "PYTHON: {records[ID][5]}\n",
    "DATA ANALYSIS: {records[ID][6]}\n",
    "OVERAL PERCENTAGE: {(records[ID][3] + records[ID][4] + records[ID][5] + records[ID][6])/4}%\n",
    "''')\n",
    "else:\n",
    "    print('Record not found')"
   ]
  },
  {
   "cell_type": "code",
   "execution_count": 15,
   "id": "3248b3f5",
   "metadata": {},
   "outputs": [],
   "source": [
    "# while loop"
   ]
  },
  {
   "cell_type": "code",
   "execution_count": 17,
   "id": "7df1cd28",
   "metadata": {},
   "outputs": [
    {
     "name": "stdout",
     "output_type": "stream",
     "text": [
      "Enter a number: 54\n",
      "The sqrt of 54 is 7.3484692283495345\n",
      "Enter a number: 65\n",
      "The sqrt of 65 is 8.06225774829855\n",
      "Enter a number: 88\n",
      "The sqrt of 88 is 9.38083151964686\n",
      "Enter a number: 0\n"
     ]
    }
   ],
   "source": [
    "num = int(input('Enter a number: '))\n",
    "import math\n",
    "counter = 0\n",
    "while num != 0:\n",
    "    print(f'The sqrt of {num} is {math.sqrt(num)}')\n",
    "    counter += 1\n",
    "    num = int(input('Enter a number: '))\n",
    "    "
   ]
  },
  {
   "cell_type": "code",
   "execution_count": 22,
   "id": "19d56ea4",
   "metadata": {},
   "outputs": [
    {
     "name": "stdout",
     "output_type": "stream",
     "text": [
      "Enter you guess between 1 and 20: 19\n",
      "Your guess is high\n",
      "Enter you guess between 1 and 20: 15\n",
      "Your guess is high\n",
      "Enter you guess between 1 and 20: 14\n",
      "Your guess is high\n",
      "Enter you guess between 1 and 20: 10\n",
      "Your guess is high\n",
      "Sorry limit exceeded\n"
     ]
    }
   ],
   "source": [
    "# guessing game\n",
    "limit = 5\n",
    "import random\n",
    "num = random.randint(1,20)\n",
    "counter = 1\n",
    "while counter < limit:\n",
    "    guess = int(input('Enter you guess between 1 and 20: '))\n",
    "    counter +=1\n",
    "    if guess > num:\n",
    "        print('Your guess is high')\n",
    "    elif guess < num:\n",
    "        print('Your guess is low')\n",
    "    elif guess == num:\n",
    "        print('Congratulations! Your guess is correct')\n",
    "        break\n",
    "else:\n",
    "    print('Sorry limit exceeded')"
   ]
  },
  {
   "cell_type": "code",
   "execution_count": null,
   "id": "1a95304f",
   "metadata": {},
   "outputs": [],
   "source": []
  }
 ],
 "metadata": {
  "kernelspec": {
   "display_name": "Python 3 (ipykernel)",
   "language": "python",
   "name": "python3"
  },
  "language_info": {
   "codemirror_mode": {
    "name": "ipython",
    "version": 3
   },
   "file_extension": ".py",
   "mimetype": "text/x-python",
   "name": "python",
   "nbconvert_exporter": "python",
   "pygments_lexer": "ipython3",
   "version": "3.9.12"
  }
 },
 "nbformat": 4,
 "nbformat_minor": 5
}
