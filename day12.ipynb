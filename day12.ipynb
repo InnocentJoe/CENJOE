{
 "cells": [
  {
   "cell_type": "code",
   "execution_count": null,
   "id": "63597669-75a2-4724-8f25-143949128463",
   "metadata": {},
   "outputs": [],
   "source": [
    "# Mini test\n",
    "### WRITE A PROGRAM THAT WILL ALLOW USER TO ANSWER FIVE RANDOM SIMPLE ADDITION QUESTIONS.\n",
    "### FOR EACH CORRECT ANSWER, USER GETS 10 MARKS, ELSE 0 AFTER THE OVER ALL SCORE"
   ]
  },
  {
   "cell_type": "code",
   "execution_count": 3,
   "id": "ed048c72",
   "metadata": {},
   "outputs": [
    {
     "name": "stdout",
     "output_type": "stream",
     "text": [
      "75 + 56 = 131\n",
      "34 + 53 = 87\n",
      "54 + 48 = 102\n",
      "31 + 23 = 54\n",
      "56 + 16 = 72\n",
      "The total score is 50\n"
     ]
    }
   ],
   "source": [
    "import random\n",
    "score = 0\n",
    "for x in range(1,6):\n",
    "    num1 = random.randint(1,99)\n",
    "    num2 = random.randint(1,99)\n",
    "    answer = int(input(f'{num1} + {num2} = '))\n",
    "    total = sum([num1,num2])\n",
    "    if answer == total:\n",
    "        score += 10\n",
    "    else:\n",
    "        score += 0\n",
    "print(f'The total score is {score}')"
   ]
  },
  {
   "cell_type": "markdown",
   "id": "9f0178b1",
   "metadata": {},
   "source": [
    "### DATE AND TIME"
   ]
  },
  {
   "cell_type": "code",
   "execution_count": 4,
   "id": "42b0c13d",
   "metadata": {},
   "outputs": [
    {
     "name": "stdout",
     "output_type": "stream",
     "text": [
      "['MAXYEAR', 'MINYEAR', '__all__', '__builtins__', '__cached__', '__doc__', '__file__', '__loader__', '__name__', '__package__', '__spec__', 'date', 'datetime', 'datetime_CAPI', 'sys', 'time', 'timedelta', 'timezone', 'tzinfo']\n"
     ]
    }
   ],
   "source": [
    "import datetime\n",
    "print(dir(datetime))"
   ]
  },
  {
   "cell_type": "code",
   "execution_count": 5,
   "id": "01f4d47e",
   "metadata": {},
   "outputs": [
    {
     "data": {
      "text/plain": [
       "datetime.date(2022, 9, 24)"
      ]
     },
     "execution_count": 5,
     "metadata": {},
     "output_type": "execute_result"
    }
   ],
   "source": [
    "date1 = datetime.date(2022,9,24)\n",
    "date1"
   ]
  },
  {
   "cell_type": "code",
   "execution_count": 6,
   "id": "921035ac",
   "metadata": {},
   "outputs": [
    {
     "name": "stdout",
     "output_type": "stream",
     "text": [
      "2022\n",
      "9\n",
      "24\n",
      "5\n",
      "6\n"
     ]
    }
   ],
   "source": [
    "print(date1.year)\n",
    "print(date1.month)\n",
    "print(date1.day)\n",
    "print(date1.weekday())\n",
    "print(date1.isoweekday())"
   ]
  },
  {
   "cell_type": "code",
   "execution_count": 7,
   "id": "f1ac54c1",
   "metadata": {},
   "outputs": [
    {
     "data": {
      "text/plain": [
       "datetime.date(2023, 7, 10)"
      ]
     },
     "execution_count": 7,
     "metadata": {},
     "output_type": "execute_result"
    }
   ],
   "source": [
    "currentdate = datetime.date.today()\n",
    "currentdate"
   ]
  },
  {
   "cell_type": "code",
   "execution_count": 8,
   "id": "02ce95ee",
   "metadata": {},
   "outputs": [
    {
     "data": {
      "text/plain": [
       "'Monday'"
      ]
     },
     "execution_count": 8,
     "metadata": {},
     "output_type": "execute_result"
    }
   ],
   "source": [
    "# strftime: this is used for the modification of date abd time\n",
    "currentdate.strftime('%A')"
   ]
  },
  {
   "cell_type": "code",
   "execution_count": 9,
   "id": "58c0c217",
   "metadata": {},
   "outputs": [
    {
     "data": {
      "text/plain": [
       "'Mon'"
      ]
     },
     "execution_count": 9,
     "metadata": {},
     "output_type": "execute_result"
    }
   ],
   "source": [
    "currentdate.strftime('%a')"
   ]
  },
  {
   "cell_type": "code",
   "execution_count": 10,
   "id": "074c032c",
   "metadata": {},
   "outputs": [
    {
     "data": {
      "text/plain": [
       "'July'"
      ]
     },
     "execution_count": 10,
     "metadata": {},
     "output_type": "execute_result"
    }
   ],
   "source": [
    "currentdate.strftime('%B')"
   ]
  },
  {
   "cell_type": "code",
   "execution_count": 11,
   "id": "ff53d9ca",
   "metadata": {},
   "outputs": [
    {
     "data": {
      "text/plain": [
       "'Jul'"
      ]
     },
     "execution_count": 11,
     "metadata": {},
     "output_type": "execute_result"
    }
   ],
   "source": [
    "currentdate.strftime('%b')"
   ]
  },
  {
   "cell_type": "code",
   "execution_count": 13,
   "id": "06b26e99",
   "metadata": {},
   "outputs": [
    {
     "data": {
      "text/plain": [
       "'2023'"
      ]
     },
     "execution_count": 13,
     "metadata": {},
     "output_type": "execute_result"
    }
   ],
   "source": [
    "currentdate.strftime('%Y')"
   ]
  },
  {
   "cell_type": "code",
   "execution_count": 14,
   "id": "be12fd54",
   "metadata": {},
   "outputs": [
    {
     "data": {
      "text/plain": [
       "'23'"
      ]
     },
     "execution_count": 14,
     "metadata": {},
     "output_type": "execute_result"
    }
   ],
   "source": [
    "currentdate.strftime('%y')"
   ]
  },
  {
   "cell_type": "code",
   "execution_count": 15,
   "id": "6eabc646",
   "metadata": {},
   "outputs": [
    {
     "data": {
      "text/plain": [
       "'07/10/23'"
      ]
     },
     "execution_count": 15,
     "metadata": {},
     "output_type": "execute_result"
    }
   ],
   "source": [
    "currentdate.strftime('%D')"
   ]
  },
  {
   "cell_type": "code",
   "execution_count": 16,
   "id": "874542a1",
   "metadata": {},
   "outputs": [
    {
     "data": {
      "text/plain": [
       "'Monday, Mon, July, Jul, 10, 2023, 23, 07/10/23'"
      ]
     },
     "execution_count": 16,
     "metadata": {},
     "output_type": "execute_result"
    }
   ],
   "source": [
    "currentdate.strftime('%A, %a, %B, %b, %d, %Y, %y, %D')"
   ]
  },
  {
   "cell_type": "code",
   "execution_count": 17,
   "id": "e5499d57",
   "metadata": {},
   "outputs": [
    {
     "data": {
      "text/plain": [
       "datetime.time(11, 8, 43, 32733)"
      ]
     },
     "execution_count": 17,
     "metadata": {},
     "output_type": "execute_result"
    }
   ],
   "source": [
    "current_time = datetime.datetime.now().time()\n",
    "current_time"
   ]
  },
  {
   "cell_type": "code",
   "execution_count": null,
   "id": "3d59a86c-ff3b-428d-a054-cdb8545d8f0f",
   "metadata": {},
   "outputs": [
    {
     "data": {
      "text/plain": [
       "'11::08::43::032733::AM::11'"
      ]
     },
     "execution_count": 19,
     "metadata": {},
     "output_type": "execute_result"
    }
   ],
   "source": [
    "current_time.strftime('%H::%M::%S::%f::%p::%I')"
   ]
  },
  {
   "cell_type": "code",
   "execution_count": 20,
   "id": "0ce8dc9d",
   "metadata": {},
   "outputs": [],
   "source": [
    "# strptime : This is used to convert a date from string to datetime format"
   ]
  },
  {
   "cell_type": "code",
   "execution_count": 23,
   "id": "1ead019d",
   "metadata": {},
   "outputs": [
    {
     "name": "stdout",
     "output_type": "stream",
     "text": [
      "Please enter your date [m/d/y]: 07/10/2023\n",
      "2023-07-10\n"
     ]
    }
   ],
   "source": [
    "date2 = input('Please enter your date [m/d/y]: ')\n",
    "condate = datetime.datetime.strptime(date2, '%m/%d/%Y').date()\n",
    "print(condate)"
   ]
  },
  {
   "cell_type": "markdown",
   "id": "a431b5ae",
   "metadata": {},
   "source": [
    "# Exercise\n",
    "# Write a program to print out this statement to five friends:\n",
    "# Hey {friend name}! You are invited to Mr mark child naming on 27th July, 2023. Time:: 4pm prompt"
   ]
  },
  {
   "cell_type": "code",
   "execution_count": 34,
   "id": "6739b040",
   "metadata": {},
   "outputs": [
    {
     "name": "stdout",
     "output_type": "stream",
     "text": [
      "Enter friend's name: Johnson\n",
      "Hey Johnson! You are invited to Mr Mark child naming on 27th of July, 2023. Time:: 04PM prompt\n",
      "Enter friend's name: Ebuka\n",
      "Hey Ebuka! You are invited to Mr Mark child naming on 27th of July, 2023. Time:: 04PM prompt\n",
      "Enter friend's name: Hope\n",
      "Hey Hope! You are invited to Mr Mark child naming on 27th of July, 2023. Time:: 04PM prompt\n",
      "Enter friend's name: Onyeka\n",
      "Hey Onyeka! You are invited to Mr Mark child naming on 27th of July, 2023. Time:: 04PM prompt\n",
      "Enter friend's name: Eyiuche\n",
      "Hey Eyiuche! You are invited to Mr Mark child naming on 27th of July, 2023. Time:: 04PM prompt\n"
     ]
    }
   ],
   "source": [
    "dateandtime = datetime.datetime(2023,7,27,16,0,0,0,)\n",
    "for i in range(1,6):\n",
    "    name = input('Enter friend\\'s name: ')\n",
    "    print(f'Hey {name}! You are invited to Mr Mark child naming on\\\n",
    " {dateandtime.strftime(\"%dth of %B, %Y\")}. Time:: {dateandtime.strftime(\"%I%p prompt\")}' )"
   ]
  },
  {
   "cell_type": "code",
   "execution_count": 29,
   "id": "483feb41",
   "metadata": {},
   "outputs": [
    {
     "data": {
      "text/plain": [
       "datetime.timedelta(days=289)"
      ]
     },
     "execution_count": 29,
     "metadata": {},
     "output_type": "execute_result"
    }
   ],
   "source": [
    "# time delta\n",
    "currentdate - date1"
   ]
  },
  {
   "cell_type": "code",
   "execution_count": 31,
   "id": "943436cc",
   "metadata": {},
   "outputs": [
    {
     "data": {
      "text/plain": [
       "datetime.date(2023, 12, 7)"
      ]
     },
     "execution_count": 31,
     "metadata": {},
     "output_type": "execute_result"
    }
   ],
   "source": [
    "currentdate + datetime.timedelta(days=150)"
   ]
  },
  {
   "cell_type": "code",
   "execution_count": 4,
   "id": "7ae02622-5a5c-4afc-b505-4313e2ccdb44",
   "metadata": {},
   "outputs": [
    {
     "name": "stdout",
     "output_type": "stream",
     "text": [
      "['MAXYEAR', 'MINYEAR', '__all__', '__builtins__', '__cached__', '__doc__', '__file__', '__loader__', '__name__', '__package__', '__spec__', 'date', 'datetime', 'datetime_CAPI', 'sys', 'time', 'timedelta', 'timezone', 'tzinfo']\n"
     ]
    }
   ],
   "source": [
    "import datetime\n",
    "print(dir(datetime))"
   ]
  },
  {
   "cell_type": "code",
   "execution_count": 5,
   "id": "eb94b98e-ff4e-43b5-a031-aecdc847c7f8",
   "metadata": {},
   "outputs": [
    {
     "data": {
      "text/plain": [
       "datetime.time(13, 1, 31, 232271)"
      ]
     },
     "execution_count": 5,
     "metadata": {},
     "output_type": "execute_result"
    }
   ],
   "source": [
    "current_time = datetime.datetime.now().time()\n",
    "current_time"
   ]
  },
  {
   "cell_type": "code",
   "execution_count": 11,
   "id": "05cf5b65-584d-4eff-a3d9-d24aef213a94",
   "metadata": {},
   "outputs": [
    {
     "data": {
      "text/plain": [
       "'13:01:31'"
      ]
     },
     "execution_count": 11,
     "metadata": {},
     "output_type": "execute_result"
    }
   ],
   "source": [
    "current_time.strftime('%H:%M:%S')"
   ]
  },
  {
   "cell_type": "code",
   "execution_count": null,
   "id": "bcfc8bd5-1763-4a65-b5b0-c33a73f9c4f4",
   "metadata": {},
   "outputs": [],
   "source": []
  }
 ],
 "metadata": {
  "kernelspec": {
   "display_name": "Python 3 (ipykernel)",
   "language": "python",
   "name": "python3"
  },
  "language_info": {
   "codemirror_mode": {
    "name": "ipython",
    "version": 3
   },
   "file_extension": ".py",
   "mimetype": "text/x-python",
   "name": "python",
   "nbconvert_exporter": "python",
   "pygments_lexer": "ipython3",
   "version": "3.9.12"
  }
 },
 "nbformat": 4,
 "nbformat_minor": 5
}
