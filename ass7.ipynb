{
 "cells": [
  {
   "cell_type": "code",
   "execution_count": 9,
   "id": "f246a083",
   "metadata": {
    "scrolled": true
   },
   "outputs": [
    {
     "name": "stdout",
     "output_type": "stream",
     "text": [
      "Enter person's name: Mary Okeke\n",
      "Enter height: 1.9\n",
      "Enter weight: 70\n",
      "Mary Okeke: BMI:        19.390581717451525:        Condition: Normal weight\n"
     ]
    }
   ],
   "source": [
    "def calculate_BMI():\n",
    "    name = input('Enter person\\'s name: ')\n",
    "    height = float(input('Enter height: '))\n",
    "    weight = float(input('Enter weight: '))\n",
    "    BMI = weight/height**2\n",
    "    if BMI < 18.5:\n",
    "        print(f'{name}: \\\n",
    "        BMI: {BMI}:\\\n",
    "        Condition: Underweight')\n",
    "    elif BMI >= 18.5 and BMI<= 24.9:\n",
    "        print(f'{name}: BMI:\\\n",
    "        {BMI}:\\\n",
    "        Condition: Normal weight')\n",
    "    elif BMI <= 25 and BMI <= 29.9:\n",
    "        print(f'{name}:\\\n",
    "        BMI: {BMI}:\\\n",
    "        Condition: Overweight')\n",
    "    else:\n",
    "        print(f'{name}:\\\n",
    "        BMI: {BMI}:\\\n",
    "        Condition: Obesity')\n",
    "calculate_BMI()"
   ]
  },
  {
   "cell_type": "code",
   "execution_count": 8,
   "id": "c018ced7",
   "metadata": {
    "scrolled": true
   },
   "outputs": [
    {
     "name": "stdout",
     "output_type": "stream",
     "text": [
      "Enter person's name: Onyeka Ezugwu\n",
      "Enter height: 1.8\n",
      "Enter weight: 45\n",
      "Onyeka Ezugwu: BMI: 13.888888888888888: Condition: Underweight\n"
     ]
    }
   ],
   "source": [
    "def calculate_BMI():\n",
    "    name = input('Enter person\\'s name: ')\n",
    "    height = float(input('Enter height: '))\n",
    "    weight = float(input('Enter weight: '))\n",
    "    BMI = weight/height**2\n",
    "    if BMI < 18.5:\n",
    "        print(f'{name}: BMI: {BMI}: Condition: Underweight')\n",
    "    elif BMI >= 18.5 and BMI<= 24.9:\n",
    "        print(f'{name}: BMI: {BMI}: Condition: Normal weight')\n",
    "    elif BMI <= 25 and BMI <= 29.9:\n",
    "        print(f'{name}: BMI: {BMI}: Condition: Overweight')\n",
    "    else:\n",
    "        print(f'{name}: BMI: {BMI}: Condition: Obesity')\n",
    "calculate_BMI()"
   ]
  },
  {
   "cell_type": "code",
   "execution_count": null,
   "id": "b02e47e5",
   "metadata": {},
   "outputs": [],
   "source": []
  }
 ],
 "metadata": {
  "kernelspec": {
   "display_name": "Python 3 (ipykernel)",
   "language": "python",
   "name": "python3"
  },
  "language_info": {
   "codemirror_mode": {
    "name": "ipython",
    "version": 3
   },
   "file_extension": ".py",
   "mimetype": "text/x-python",
   "name": "python",
   "nbconvert_exporter": "python",
   "pygments_lexer": "ipython3",
   "version": "3.9.12"
  }
 },
 "nbformat": 4,
 "nbformat_minor": 5
}
