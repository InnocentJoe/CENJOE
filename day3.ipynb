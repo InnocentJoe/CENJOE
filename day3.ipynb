{
 "cells": [
  {
   "cell_type": "markdown",
   "id": "7db655ad",
   "metadata": {},
   "source": [
    "### ITERABLE OBJECT"
   ]
  },
  {
   "cell_type": "markdown",
   "id": "999f7169",
   "metadata": {},
   "source": [
    "### TUPLE\n",
    "### TUPLE IS UNCHANGEABLE\n",
    "### TUPLE IS DENOTED WITH ()\n",
    "### TO ACCESS VALUE ROM A TUPLE WE USE THE INDEX LOCATION\n",
    "### NOTE: TUPLE IS NOT LIMITED TO ONE DATA TYPE\n",
    "### TUPLE MUST BE IN ORDER\n",
    "### NOTE: TUPLE IS NOT LIMITED TO ONE DATA TYPE"
   ]
  },
  {
   "cell_type": "code",
   "execution_count": 4,
   "id": "fc626242",
   "metadata": {},
   "outputs": [
    {
     "name": "stdout",
     "output_type": "stream",
     "text": [
      "<class 'tuple'>\n"
     ]
    }
   ],
   "source": [
    "numbers = (47,58,96,21,53,65,41,78,96,47,88,90,98,47,100)\n",
    "print(type(numbers))"
   ]
  },
  {
   "cell_type": "code",
   "execution_count": 8,
   "id": "9c4ae2f0",
   "metadata": {},
   "outputs": [
    {
     "name": "stdout",
     "output_type": "stream",
     "text": [
      "14\n"
     ]
    }
   ],
   "source": [
    "print(len(numbers))"
   ]
  },
  {
   "cell_type": "code",
   "execution_count": 9,
   "id": "a90e9a3a",
   "metadata": {},
   "outputs": [
    {
     "name": "stdout",
     "output_type": "stream",
     "text": [
      "65\n"
     ]
    }
   ],
   "source": [
    "print(numbers[5]) # RETRIEVING A VALUE USING THE STARTING INDEX LOCATION 0"
   ]
  },
  {
   "cell_type": "code",
   "execution_count": 10,
   "id": "7050f5ec",
   "metadata": {},
   "outputs": [
    {
     "name": "stdout",
     "output_type": "stream",
     "text": [
      "53\n"
     ]
    }
   ],
   "source": [
    "print(numbers[-10]) # # RETRIEVING A VALUE USING THE STOPPING INDEX LOCATION -1"
   ]
  },
  {
   "cell_type": "code",
   "execution_count": 6,
   "id": "912499f4",
   "metadata": {},
   "outputs": [
    {
     "ename": "NameError",
     "evalue": "name 'numbers' is not defined",
     "output_type": "error",
     "traceback": [
      "\u001b[1;31m---------------------------------------------------------------------------\u001b[0m",
      "\u001b[1;31mNameError\u001b[0m                                 Traceback (most recent call last)",
      "Input \u001b[1;32mIn [6]\u001b[0m, in \u001b[0;36m<cell line: 1>\u001b[1;34m()\u001b[0m\n\u001b[1;32m----> 1\u001b[0m \u001b[38;5;28mprint\u001b[39m(\u001b[43mnumbers\u001b[49m[\u001b[38;5;241m3\u001b[39m:\u001b[38;5;241m8\u001b[39m])\n",
      "\u001b[1;31mNameError\u001b[0m: name 'numbers' is not defined"
     ]
    }
   ],
   "source": [
    "print(numbers[3:8]) # RETRIEVING A RANGE VALUE FROM THE STARTING INDEX LOCATION "
   ]
  },
  {
   "cell_type": "code",
   "execution_count": 3,
   "id": "4b9a20a6",
   "metadata": {},
   "outputs": [
    {
     "ename": "NameError",
     "evalue": "name 'numbers' is not defined",
     "output_type": "error",
     "traceback": [
      "\u001b[1;31m---------------------------------------------------------------------------\u001b[0m",
      "\u001b[1;31mNameError\u001b[0m                                 Traceback (most recent call last)",
      "Input \u001b[1;32mIn [3]\u001b[0m, in \u001b[0;36m<cell line: 1>\u001b[1;34m()\u001b[0m\n\u001b[1;32m----> 1\u001b[0m \u001b[38;5;28mprint\u001b[39m(\u001b[43mnumbers\u001b[49m[\u001b[38;5;241m3\u001b[39m:\u001b[38;5;241m-\u001b[39m\u001b[38;5;241m7\u001b[39m])\n",
      "\u001b[1;31mNameError\u001b[0m: name 'numbers' is not defined"
     ]
    }
   ],
   "source": [
    "print(numbers[3:-7]) # RETRIEVING A RANGE VALUE USING THE STARTING AND STOPPING INDEX LOCATION"
   ]
  },
  {
   "cell_type": "markdown",
   "id": "14c37cf5",
   "metadata": {},
   "source": [
    "### LIST\n",
    "### LIST IS CHANGEABLE\n",
    "### LIST CAN BE ORDERED OR UNORDERED\n",
    "### LIST IS DENOTED WITH []\n",
    "### TO ACCESS A VALUE FROM A LIST WE USE THE INDEXT LOCATION\n",
    "### NOTE: LIST IS NOT LIMITED TO ONE PARTICULAR DATA TYPE"
   ]
  },
  {
   "cell_type": "code",
   "execution_count": 16,
   "id": "83e559dd",
   "metadata": {},
   "outputs": [],
   "source": [
    "items = ['Cup', 'Plate', 'Biro', 'Apple', 'Cup']"
   ]
  },
  {
   "cell_type": "code",
   "execution_count": 17,
   "id": "76d4f656",
   "metadata": {},
   "outputs": [
    {
     "name": "stdout",
     "output_type": "stream",
     "text": [
      "['Cup', 'Plate', 'Biro', 'Apple', 'Cup', 'pear']\n"
     ]
    }
   ],
   "source": [
    "items.append('pear') # APPEND WILL ADD A NEW VALUE TO THE END OF THE LIST\n",
    "print(items)"
   ]
  },
  {
   "cell_type": "code",
   "execution_count": 18,
   "id": "e7002a18",
   "metadata": {},
   "outputs": [
    {
     "name": "stdout",
     "output_type": "stream",
     "text": [
      "['Cup', 'Plate', 'Biro', 'Banana', 'Apple', 'Cup', 'pear']\n"
     ]
    }
   ],
   "source": [
    "items.insert(3, 'Banana') # INSERT WILL ADD A NEW VALUE TO SPECIFIED LOCATION IN THE LIST\n",
    "print(items)"
   ]
  },
  {
   "cell_type": "code",
   "execution_count": 19,
   "id": "614ea8e3",
   "metadata": {},
   "outputs": [
    {
     "name": "stdout",
     "output_type": "stream",
     "text": [
      "['Cup', 'Plate', 'Biro', 'Banana', 'Apple', 'Cup', 'pear', 'Coconut', 'Broom', 'Apple']\n"
     ]
    }
   ],
   "source": [
    "f =['Coconut', 'Broom', 'Apple']\n",
    "items.extend(f) # EXTEND WILL MOVE ALL VALUES FROM A LIST OR TUPLE TO THE EXISTING LIST\n",
    "print(items)"
   ]
  },
  {
   "cell_type": "code",
   "execution_count": 20,
   "id": "6f2e971e",
   "metadata": {},
   "outputs": [
    {
     "name": "stdout",
     "output_type": "stream",
     "text": [
      "['Cup', 'Plate', 'Banana', 'Apple', 'Cup', 'pear', 'Coconut', 'Broom', 'Apple']\n"
     ]
    }
   ],
   "source": [
    "items.pop(2) # POP WILL REMOVE THE VALUE IN THE SPECIFIED VALUE\n",
    "print(items)"
   ]
  },
  {
   "cell_type": "code",
   "execution_count": 22,
   "id": "08c5d027",
   "metadata": {},
   "outputs": [
    {
     "name": "stdout",
     "output_type": "stream",
     "text": [
      "['Cup', 'Plate', 'Banana', 'Apple', 'Cup', 'Coconut', 'Broom', 'Apple']\n"
     ]
    }
   ],
   "source": [
    "items.remove('pear') # REMOVE WILL REMOVE THE SPECIFIED VALUE\n",
    "print(items)"
   ]
  },
  {
   "cell_type": "code",
   "execution_count": 23,
   "id": "1db474e2",
   "metadata": {},
   "outputs": [
    {
     "name": "stdout",
     "output_type": "stream",
     "text": [
      "['Apple', 'Apple', 'Banana', 'Broom', 'Coconut', 'Cup', 'Cup', 'Plate']\n"
     ]
    }
   ],
   "source": [
    "items.sort() # SORT ARRAGES THE VALUE IN ASCENDING ORDER ONLY APPLICABLE TO STRING DATATYPE\n",
    "print(items)"
   ]
  },
  {
   "cell_type": "code",
   "execution_count": 25,
   "id": "ead0838e",
   "metadata": {},
   "outputs": [
    {
     "name": "stdout",
     "output_type": "stream",
     "text": [
      "['Apple', 'Apple', 'Banana', 'Broom', 'Coconut', 'Cup', 'Cup', 'Plate']\n"
     ]
    }
   ],
   "source": [
    "newitems = items.copy()\n",
    "print(newitems)"
   ]
  },
  {
   "cell_type": "code",
   "execution_count": 26,
   "id": "19d29c9f",
   "metadata": {},
   "outputs": [
    {
     "name": "stdout",
     "output_type": "stream",
     "text": [
      "[]\n"
     ]
    }
   ],
   "source": [
    "newitems.clear()\n",
    "print(newitems)"
   ]
  },
  {
   "cell_type": "code",
   "execution_count": 27,
   "id": "e0059f31",
   "metadata": {},
   "outputs": [
    {
     "ename": "NameError",
     "evalue": "name 'newitems' is not defined",
     "output_type": "error",
     "traceback": [
      "\u001b[1;31m---------------------------------------------------------------------------\u001b[0m",
      "\u001b[1;31mNameError\u001b[0m                                 Traceback (most recent call last)",
      "Input \u001b[1;32mIn [27]\u001b[0m, in \u001b[0;36m<cell line: 2>\u001b[1;34m()\u001b[0m\n\u001b[0;32m      1\u001b[0m \u001b[38;5;28;01mdel\u001b[39;00m(newitems)\n\u001b[1;32m----> 2\u001b[0m \u001b[38;5;28mprint\u001b[39m(\u001b[43mnewitems\u001b[49m)\n",
      "\u001b[1;31mNameError\u001b[0m: name 'newitems' is not defined"
     ]
    }
   ],
   "source": [
    "del(newitems)\n",
    "print(newitems)"
   ]
  },
  {
   "cell_type": "code",
   "execution_count": 28,
   "id": "106efb73",
   "metadata": {},
   "outputs": [],
   "source": [
    "# DICTIONARY"
   ]
  },
  {
   "cell_type": "code",
   "execution_count": 31,
   "id": "71ce0d32",
   "metadata": {},
   "outputs": [
    {
     "name": "stdout",
     "output_type": "stream",
     "text": [
      "45 Ade Male\n"
     ]
    }
   ],
   "source": [
    "records = {\n",
    "    'name' : 'Ade',\n",
    "    'Age' : 45,\n",
    "    'Gender' : 'Male'\n",
    "}\n",
    "print(records['Age'], records['name'], records['Gender'])"
   ]
  },
  {
   "cell_type": "code",
   "execution_count": 3,
   "id": "f41478cc",
   "metadata": {},
   "outputs": [
    {
     "name": "stdout",
     "output_type": "stream",
     "text": [
      "Ade Male 45\n"
     ]
    }
   ],
   "source": [
    "records = {\n",
    "    'name' : 'Ade',\n",
    "    'Age' : 45,\n",
    "    'Gender' : 'Male'\n",
    "}\n",
    "print(records['name'], records['Gender'], records['Age'])"
   ]
  },
  {
   "cell_type": "code",
   "execution_count": null,
   "id": "ceca464c",
   "metadata": {},
   "outputs": [],
   "source": []
  },
  {
   "cell_type": "code",
   "execution_count": null,
   "id": "ea0e6d51",
   "metadata": {},
   "outputs": [],
   "source": []
  }
 ],
 "metadata": {
  "kernelspec": {
   "display_name": "Python 3 (ipykernel)",
   "language": "python",
   "name": "python3"
  },
  "language_info": {
   "codemirror_mode": {
    "name": "ipython",
    "version": 3
   },
   "file_extension": ".py",
   "mimetype": "text/x-python",
   "name": "python",
   "nbconvert_exporter": "python",
   "pygments_lexer": "ipython3",
   "version": "3.9.12"
  }
 },
 "nbformat": 4,
 "nbformat_minor": 5
}
